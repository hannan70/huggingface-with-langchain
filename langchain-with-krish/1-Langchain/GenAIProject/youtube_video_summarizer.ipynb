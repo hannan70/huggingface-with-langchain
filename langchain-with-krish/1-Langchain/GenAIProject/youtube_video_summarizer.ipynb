{
 "cells": [
  {
   "cell_type": "code",
   "execution_count": 1,
   "id": "d7f51ee6",
   "metadata": {},
   "outputs": [],
   "source": [
    "import os \n",
    "from dotenv import load_dotenv\n",
    "load_dotenv()\n",
    "\n",
    "# load env variable\n",
    "os.environ['GROQ_API_KEY'] = os.getenv('GROQ_API_KEY')\n",
    "\n",
    "from langchain_community.document_loaders import YoutubeLoader\n",
    "from langchain_groq import ChatGroq\n",
    "from langchain_core.prompts import ChatPromptTemplate\n",
    "from langchain.chains.summarize import load_summarize_chain\n"
   ]
  },
  {
   "cell_type": "code",
   "execution_count": 2,
   "id": "0d2adca5",
   "metadata": {},
   "outputs": [],
   "source": [
    "llm = ChatGroq(model=\"llama3-70b-8192\")"
   ]
  },
  {
   "cell_type": "code",
   "execution_count": 3,
   "id": "c20ade6d",
   "metadata": {},
   "outputs": [],
   "source": [
    "prompt = ChatPromptTemplate.from_template(\n",
    "    \"\"\" \n",
    "        Provide me a short summarization of the following text and give me 300 words summarization.\n",
    "        Content: {text}\n",
    "        Translate summary in {language}\n",
    "    \"\"\"\n",
    ")"
   ]
  },
  {
   "cell_type": "code",
   "execution_count": 4,
   "id": "57b3d270",
   "metadata": {},
   "outputs": [
    {
     "data": {
      "text/plain": [
       "ChatPromptTemplate(input_variables=['language', 'text'], input_types={}, partial_variables={}, messages=[HumanMessagePromptTemplate(prompt=PromptTemplate(input_variables=['language', 'text'], input_types={}, partial_variables={}, template=' \\n        Provide me a short summarization of the following text and give me 300 words summarization.\\n        Content: {text}\\n        Translate summary in {language}\\n    '), additional_kwargs={})])"
      ]
     },
     "execution_count": 4,
     "metadata": {},
     "output_type": "execute_result"
    }
   ],
   "source": [
    "prompt"
   ]
  },
  {
   "cell_type": "code",
   "execution_count": 19,
   "id": "dbb9cf57",
   "metadata": {},
   "outputs": [],
   "source": [
    "selected_languages = ['en', 'bn']"
   ]
  },
  {
   "cell_type": "code",
   "execution_count": 28,
   "id": "e212d831",
   "metadata": {},
   "outputs": [
    {
     "data": {
      "text/plain": [
       "[Document(metadata={'source': 'cX7L1qwUJfA'}, page_content=\"Bangladesh urges diplomacy over pushin stresses respect for neighborly ties. Government employees continue demonstrations seeking repeal of public service ordinance. Children burned alive as Israel bombs Gaza city school. Assalamu alayikum. This is Afranjum welcoming you all to evening news. You have just heard the crown cement headlines. Now let's move on to the details. Dhaka has consistently lodged strong protests following each reported push-in incident along its border. Emphasizing the importance of diplomatic engagement. Bangladesh maintains that such issues can and should be resolved peacefully. Underscoring the value of regional harmony, acting foreign secretary Muhammad Ruhul Alam Siddhiki today stated that it is appropriate to mistreat a neighboring country, reaffirming Dhaka's commitment to respectful and constructive bilateral relations. Diplomatic The Bangladesh Army today reiterated its unwavering dedication to safeguarding the nation's sovereignty and standing in solidarity with the people. Speaking at a press briefing held at the officer's mess in Taka canlement, Colonel Muhammad Shafikul Islam emphasized that the army will take firm measures against any actions that threaten public safety including loss of life, destruction of property, mob violence or disruptions that cause public distress. Amid the current national circumstances, Colonel Islam highlighted that the Bangladesh Army continues to work diligently to uphold national security, protect citizens and their property, and secure critical state infrastructure, ensuring stability throughout the country. Government officials and employees held their demonstration for the third consecutive day at the secretary at demanding the withdrawal of the public service amendment ordinance which allows easier dismissal of employees for misconduct. The protesters resumed their protest inside the secretariat earlier this morning. The main gate of the secretariat was locked when the protesters took position there at around 12:30 p.m. The gate was reopened 30 minutes later while the protests continued inside the country's administrative hub, disrupting the regular workflow. Meanwhile, additional police personnel were deployed at the secretariat this morning to tackle any unto situation. The protesting employees said the ordinance has created opportunities to punish or even dismiss government officials more easily, raising concerns over its potential misuse. Warning the protesters at the secretariat and the NBR, NCP leader Hassnat Abdullah stated that anyone attempting to obstruct the reform process, they would be firmly resisted with the support of the people. Hastnat made the remarks at a gathering in front of Biplop Udan at Scholola Shanogore in Chram City at the beginning of NCP's organization nal visit to the district. Hashnat also said before 5th August those protesters didn't dare to question Shik Hassina. Venting anger, the NCP leader also said when children and ordinary citizens of the country were being shot and killed in the streets, a single secretary, bureaucrat or government official did not resign. Meanwhile, Hnad Abdullah requested if the bureaucrats have any objections to the government's reform process, they should resolve it through discussion. The leaders and activists of BNP and the supporters of Ishra Hussein have been holding sitting program for the 12th consecutive day in front of the Ngur Pabun demanding Ishra's swear in as Dhaka South mayor. The protesters have staged sitin in in front of the Ngor Pabon since morning and have been chanting various slogans in favor of Ishraq. Meanwhile, the civic services of the DSCC have come to a halt due to the non ongoing movement. The protesters said Ishra's oath taking should be organized immediately otherwise the locks of the Ngor Pabun will not be reopened. The protesters all have also warned a tough movement if Ishra is not sworn in within next 24 hours. However, a leave to appeal has been filed with the appallet division seeking a stay on the electoral tribunal's verdict and the election commission's gazit that declared BNP leader Ishra Hussein as mayor of Dhaka's south city corporation. The application was submitted today to the relevant branch of the Supreme Court's Appalate Division. The assistant teachers of government primary schools are observing a full day strike across the country to press home their three-point demands, including fixing their starting salary to the 11th grade of the national pay scale. As a result of this strike program, the educational activities of students across the country are being disrupted. Their other demands are resolving complications regarding higher grade eligibility after 10 years and 16 years of service and 100% promotion to the post of the head teachers. The leaders of the primary school assistant teachers association said they will continue until the demands are met. The leaders and activists of Bangladesh Jatyabadi Chhatradoll of Taka University unit held a sitting program in front of vice chancellor's office demanding justice of the murder of Shahier Alum Shamo and the resignation of the university's vice chancellor and proctor. The JCD leaders started their program from the morning of the day. The leaders complained the university administration has been neglecting to ensure justice for Shammo murder case from the beginning. The leaders also alleged the administration has failed to ensure security in the university area. At this time, JCD leaders demanded the immediate resignation of the vice chancellor and proctor taking responsibility for the murder of Shamu. Meanwhile, the investigation committee formed to probe the death of Shamo submitted its final report to the vice chancellor, Professor Nyaz Ahmed Khan today. The convenor of the probe committee, Professor Mohammed Siddiqur Rahman Khan formally handed over the report. Before ending, let's have a look on the crown cement headlines once again. Bangladesh urges diplomacy over pushin stresses respect for neighborly ties. Government employees continue demonstrations seeking repeal of public service ordinance. Children burned alive as Israel bombs Gaza City School. And that's all from the newsroom for now. To know updates videos of this bulletin, visit our website www.enttvd.com. Besides, visit our YouTube and verified Facebook page for updates of our NTV's all popular programs and bulletins. Our next bulletin, Shuntar Kabo, will be aired in Bangal at 7:30 p.m. Thank you for being with us. Have a good time.\")]"
      ]
     },
     "execution_count": 28,
     "metadata": {},
     "output_type": "execute_result"
    }
   ],
   "source": [
    "loader = YoutubeLoader.from_youtube_url(\"https://www.youtube.com/watch?v=cX7L1qwUJfA\", add_video_info=False,  language=\"en\",)\n",
    "youtube_docs = loader.load()\n",
    "youtube_docs"
   ]
  },
  {
   "cell_type": "code",
   "execution_count": 26,
   "id": "1b56a55f",
   "metadata": {},
   "outputs": [],
   "source": [
    "language = [\"bangla\", \"english\"]"
   ]
  },
  {
   "cell_type": "code",
   "execution_count": 27,
   "id": "d51f983d",
   "metadata": {},
   "outputs": [
    {
     "data": {
      "text/plain": [
       "\"Here is a 300-word summary of the provided text:\\n\\nThe Bangladeshi government has emphasized the importance of diplomacy in resolving border issues with its neighbors, urging peaceful solutions to maintain regional harmony. The country's army has reiterated its commitment to safeguarding national sovereignty and protecting citizens. \\n\\nMeanwhile, government employees have continued their demonstrations for the third consecutive day, demanding the repeal of the public service amendment ordinance, which allows for easier dismissal of employees for misconduct. The protesters argue that the ordinance creates opportunities for punishment or dismissal of government officials, raising concerns over its potential misuse.\\n\\nIn other news, a sit-in program has been ongoing for 12 days in front of the Nagar Paban, demanding the swearing-in of Ishra Hussein as Dhaka South mayor. The protesters have warned of a tough movement if Ishra is not sworn in within the next 24 hours.\\n\\nAssistant teachers of government primary schools have gone on a full-day strike across the country, pressing for three demands, including fixing their starting salary to the 11th grade of the national pay scale. Educational activities have been disrupted as a result of the strike.\\n\\nLeaders and activists of Bangladesh Jatyabadi Chhatradoll of Taka University unit have held a sitting program, demanding justice for the murder of Shahrier Alum Shamo and the resignation of the university's vice-chancellor and proctor.\\n\\nFinally, the news bulletin reports that children were burned alive as Israel bombed a Gaza City school, highlighting the devastating consequences of conflict.\\n\\nOverall, the news bulletin covers a range of issues, from diplomatic efforts to resolve border disputes to protests and demonstrations by various groups, including government employees, teachers, and students, as well as reports of violence and conflict.\""
      ]
     },
     "execution_count": 27,
     "metadata": {},
     "output_type": "execute_result"
    }
   ],
   "source": [
    "chain = load_summarize_chain(llm=llm, chain_type=\"stuff\", prompt=prompt)\n",
    "summarize = chain.run({\"input_documents\": youtube_docs, \"language\": language[1]})\n",
    "summarize"
   ]
  },
  {
   "cell_type": "code",
   "execution_count": 29,
   "id": "cb6e0441",
   "metadata": {},
   "outputs": [],
   "source": [
    "from langchain_community.document_loaders import UnstructuredURLLoader"
   ]
  },
  {
   "cell_type": "code",
   "execution_count": 44,
   "id": "a82fd639",
   "metadata": {},
   "outputs": [],
   "source": [
    "url_loader = UnstructuredURLLoader(urls=['https://www.thedailystar.net/campus/news/no-vc-no-pay-kuet-staff-struggle-ahead-eid-amid-prolonged-shutdown-3904666'])"
   ]
  },
  {
   "cell_type": "code",
   "execution_count": 45,
   "id": "f72ba9ff",
   "metadata": {},
   "outputs": [],
   "source": [
    "url_docs = url_loader.load()"
   ]
  },
  {
   "cell_type": "code",
   "execution_count": 46,
   "id": "b3d22cfa",
   "metadata": {},
   "outputs": [
    {
     "data": {
      "text/plain": [
       "[Document(metadata={'source': 'https://www.thedailystar.net/campus/news/no-vc-no-pay-kuet-staff-struggle-ahead-eid-amid-prolonged-shutdown-3904666'}, page_content='Campus\\n\\nDipankar Roy\\n\\nTue May 27, 2025 04:59 PM Last update on: Tue May 27, 2025 05:16 PM\\n\\nMost Viewed\\n\\nAnother Bangladeshi makes it to 2025 Forbes list\\n\\nWe’re in war-like situation: Yunus\\n\\nLocal BNP leader shot dead in Dhaka’s Badda\\n\\nGovt employees can now be punished for infractions within 14 working days\\n\\nCampus\\n\\nCampus\\n\\nNo VC, no pay: Kuet staff struggle ahead of Eid amid prolonged shutdown\\n\\nTue May 27, 2025 04:59 PM Last update on: Tue May 27, 2025 05:16 PM\\n\\nFinancial operations at standstill as campus remains without leadership; over 1,100 await salaries\\n\\nDipankar Roy\\n\\nTue May 27, 2025 04:59 PM Last update on: Tue May 27, 2025 05:16 PM\\n\\nAll financial operations at Khulna University of Engineering and Technology (KUET) have come to a halt due to the absence of an authorised signatory, following the back-to-back removal and resignation of two vice-chancellors amid campus unrest.\\n\\nThe university has been without a vice-chancellor since May 21, following the resignation of interim VC Prof Md Hazrat Ali.\\n\\nGoogle News Link\\n\\nFor all latest news, follow The Daily Star\\'s Google News channel.\\n\\nBefore that, the government removed former VC Prof Muhammad Masud and pro-VC Prof M Shahjahan in the wake of a violent clash on campus on February 18.\\n\\nWith academic activities suspended for 99 consecutive days and no authorised official to approve transactions, the salaries, allowances and Eid-ul-Azha bonuses for more than 1,100 teachers, officers, and staff remain unpaid.\\n\\nThis includes around 500 low-income employees who are now in financial distress just days before the festival.\\n\\nThe university\\'s accounts office said the signature of the VC is required for processing all payments—including monthly bills for over 350 teachers, 200 officers, and 500 support staff.\\n\\nEven bills related to development projects have been frozen.\\n\\nThirty outsourced security guards have not received their salaries for April either.\\n\\n\"We work for very low wages. With Eid approaching, we don\\'t know how we\\'ll manage with our children,\" said Md Suman Sardar, supervisor of the security staff.\\n\\nThe crisis has also affected Kuet\\'s development work.\\n\\nZulfikar Hossain, director of the Tk 600 crore infrastructure and academic expansion project, said payments to contractors could not be released due to the lack of authorisation.\\n\\n\"After the removal of VC Masud, the interim VC did not sign any bills. Contractors are already slowing down, and work may stop entirely after Eid if no solution comes,\" he warned.\\n\\nMd Moinul Haque, deputy registrar and president of the Officers\\' Association, said if the situation continues, officers and staff might be forced to protest on the streets.\\n\\nKuet teachers have also expressed concern.\\n\\nProf Md Golam Kader, head of the leather engineering department, said, \"Following the February 18 attack, some teachers were assaulted. Yet, without any investigation, both the VC and pro-VC were removed. Kuet is now without a guardian.\"\\n\\nProf Md Faruq Hossain, general secretary of the Teachers\\' Association, said, \"We are without leadership. Our students are eager to resume classes, and so are we. But the university must ensure justice first, and that is not possible without a vice-chancellor.\"\\n\\nThe unrest at Kuet began on February 18, when a clash broke out between students and outsiders during a protest demanding a ban on student politics.\\n\\nThe incident left former VC Masud and over 100 students injured.\\n\\nAll university activities were suspended following the clash.\\n\\nThen, students launched a movement with five demands, which later evolved into a single demand for the VC\\'s resignation.\\n\\nOn April 23, students began a hunger strike that prompted the government to remove the VC and pro-VC on April 25.\\n\\nLater on May 1, Prof Hazrat Ali from Chittagong University of Engineering and Technology (CUET) was appointed as interim VC.\\n\\nHowever, on May 4, Kuet teachers suspended academic activities demanding justice for the February 18 incident in which teachers were allegedly harassed.\\n\\nThirty-seven students were given show-cause notices for their alleged involvement with the clash. Following that, the students went on protests.\\n\\nThe interim VC left campus last week and resigned from his post on May 21, leaving Kuet without leadership once again.\\n\\nApple\\n\\nGoogle\\n\\nClick to comment\\n\\nComments\\n\\nComments Policy\\n\\n\\n\\n|বাংলাদেশ\\n\\nমন্ত্রিপরিষদ সচিবকে কর্মচারীদের দাবি জানানো হবে বুধবার, আন্দোলন এক দিনের জন্য স্থগিত\\n\\nভূমিসচিব জানান, কর্মচারীদের দাবি আগামীকাল বুধবার মন্ত্রিপরিষদ সচিবের কাছে তুলে ধরবেন দায়িত্বপ্রাপ্ত সচিবেরা। এমন পরিস্থিতিতে আন্দোলন কর্মসূচি আগামীকাল এক দিনের জন্য স্থগিত করার সিদ্ধান্ত নিয়েছেন...\\n\\n১৩ মিনিট আগে\\n\\n|অপরাধ ও বিচার\\n\\nতালিকাভুক্ত শীর্ষ সন্ত্রাসী সুব্রত বাইন গ্রেপ্তার\\n\\n৩২ মিনিট আগে')]"
      ]
     },
     "execution_count": 46,
     "metadata": {},
     "output_type": "execute_result"
    }
   ],
   "source": [
    "url_docs"
   ]
  },
  {
   "cell_type": "code",
   "execution_count": 53,
   "id": "d382c6bc",
   "metadata": {},
   "outputs": [
    {
     "data": {
      "text/plain": [
       "\"Here is a 300-word summarization of the article:\\n\\nThe Khulna University of Engineering and Technology (KUET) is facing a severe crisis due to the absence of a Vice-Chancellor (VC). The university has been without a VC since May 21, following the resignation of interim VC Prof Md Hazrat Ali. This has led to a complete halt of financial operations, as the VC's signature is required for all transactions. As a result, and Eid-ul-Azha bonuses for over 1,100 teachers, officers, and staff remain unpaid, including around 500 low-income employees who are now in financial distress just days before the festival.\\n\\nThe university's accounts office stated that the VC's signature is necessary for processing all payments, including monthly bills for over 350 teachers, 200 officers, and 500 support staff. Even bills related to development projects have been frozen. Thirty outsourced security guards have not received their salaries for April either.\\n\\nThe crisis has also affected KUET's development work. The director of the Tk 600 crore infrastructure and academic expansion project said payments to contractors could not be released due to the lack of authorisation. Contractors are already slowing down, and work may stop entirely after Eid if no solution comes.\\n\\nTeachers and officers have expressed concern and frustration over the situation. They are demanding justice and a proper investigation into the February 18 incident that led to the removal of the previous VC and pro-VC. Without a VC, the teachers and students are feeling leaderless, and the university's activities are at a standstill.\\n\\nThe unrest at KUET began on February 18, when a clash broke out between students and outsiders during a protest demanding a ban on student politics. The incident left the former VC and over 100 students injured. Since then, students and teachers have been protesting and demanding justice, leading to the removal of the VC and pro-VC. The situation remains unresolved, leaving the university in a state of crisis.\\n\\nHere is the translation of the summary in Bangla:\\n\\nখুলনা প্রকৌশল ও প্রযুক্তি বিশ্ববিদ্যালয় (কুয়েট) উপ-উপাচার্যের অনুপস্থিতিতে গভীর সঙ্কটে আছে। বিশ্ববিদ্যালয়টি ২১ মে থেকে উপ-উপাচার্যের পদত্যাগত হওয়ার পর থেকে উপাচার্যের অনুপস্থিতি রয়েছে। এর ফলে সমস্ত আর্থিক কার্যক্রম স্তব্ধ হয়েছে, কারণ উপাচার্যের স্বাক্ষর সমস্ত লেনদেনের জন্য প্রয়োজন। এর ফলে ইদুল আজহার বেতন ও ভাতা প্রায় ১,১০০ শিক্ষক, কর্মকর্তা ও কর্মচারীদের জন্য অপরিশোধিত রয়েছে, যার মধ্যে প্রায় ৫০০ নিম্ন আয়ের কর্মচারীরা ঈদের আগে আর্থিক সঙ্কটে আছেন।\""
      ]
     },
     "execution_count": 53,
     "metadata": {},
     "output_type": "execute_result"
    }
   ],
   "source": [
    "chain = load_summarize_chain(llm=llm, chain_type=\"stuff\", prompt=prompt)\n",
    "summarize = chain.run({\"input_documents\": url_docs, \"language\": language[0]})\n",
    "summarize"
   ]
  },
  {
   "cell_type": "code",
   "execution_count": 54,
   "id": "28e05045",
   "metadata": {},
   "outputs": [
    {
     "data": {
      "text/plain": [
       "':\\n\\nখুলনা প্রকৌশল ও প্রযুক্তি বিশ্ববিদ্যালয় (কুয়েট) উপ-উপাচার্যের অনুপস্থিতিতে গভীর সঙ্কটে আছে। বিশ্ববিদ্যালয়টি ২১ মে থেকে উপ-উপাচার্যের পদত্যাগত হওয়ার পর থেকে উপাচার্যের অনুপস্থিতি রয়েছে। এর ফলে সমস্ত আর্থিক কার্যক্রম স্তব্ধ হয়েছে, কারণ উপাচার্যের স্বাক্ষর সমস্ত লেনদেনের জন্য প্রয়োজন। এর ফলে ইদুল আজহার বেতন ও ভাতা প্রায় ১,১০০ শিক্ষক, কর্মকর্তা ও কর্মচারীদের জন্য অপরিশোধিত রয়েছে, যার মধ্যে প্রায় ৫০০ নিম্ন আয়ের কর্মচারীরা ঈদের আগে আর্থিক সঙ্কটে আছেন।'"
      ]
     },
     "execution_count": 54,
     "metadata": {},
     "output_type": "execute_result"
    }
   ],
   "source": [
    "summarize.split(\"Bangla\")[-1]"
   ]
  },
  {
   "cell_type": "code",
   "execution_count": null,
   "id": "b55f8be0",
   "metadata": {},
   "outputs": [],
   "source": []
  }
 ],
 "metadata": {
  "kernelspec": {
   "display_name": "Python 3",
   "language": "python",
   "name": "python3"
  },
  "language_info": {
   "codemirror_mode": {
    "name": "ipython",
    "version": 3
   },
   "file_extension": ".py",
   "mimetype": "text/x-python",
   "name": "python",
   "nbconvert_exporter": "python",
   "pygments_lexer": "ipython3",
   "version": "3.11.0"
  }
 },
 "nbformat": 4,
 "nbformat_minor": 5
}
