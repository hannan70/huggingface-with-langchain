{
 "cells": [
  {
   "cell_type": "code",
   "execution_count": 1,
   "id": "0186f80c",
   "metadata": {},
   "outputs": [],
   "source": [
    "import os\n",
    "from dotenv import load_dotenv\n",
    "load_dotenv()\n",
    "\n",
    "os.environ['GROQ_API_KEY'] = os.getenv('GROQ_API_KEY')\n",
    "os.environ['HUGGINGFACE_TOKEN'] = os.getenv('HUGGINGFACE_TOKEN')\n",
    "os.environ['LANGSMITH_API_KEY'] = os.getenv('LANGSMITH_API_KEY')\n",
    "os.environ['LANGCHAIN_PROJECT'] = os.getenv('LANGCHAIN_PROJECT')\n",
    "os.environ['LANGSMITH_TRACING'] = 'true'"
   ]
  },
  {
   "cell_type": "code",
   "execution_count": 9,
   "id": "9327a116",
   "metadata": {},
   "outputs": [],
   "source": [
    "from langchain_groq import ChatGroq\n",
    "from langchain_core.output_parsers import StrOutputParser\n",
    "from langchain_core.prompts import ChatPromptTemplate"
   ]
  },
  {
   "cell_type": "code",
   "execution_count": 4,
   "id": "58546c97",
   "metadata": {},
   "outputs": [
    {
     "name": "stdout",
     "output_type": "stream",
     "text": [
      "client=<groq.resources.chat.completions.Completions object at 0x000001BDB1EF5850> async_client=<groq.resources.chat.completions.AsyncCompletions object at 0x000001BDB1EF4590> model_name='gemma2-9b-it' model_kwargs={} groq_api_key=SecretStr('**********')\n"
     ]
    }
   ],
   "source": [
    "llm = ChatGroq(model='gemma2-9b-it')\n",
    "print(llm)"
   ]
  },
  {
   "cell_type": "code",
   "execution_count": 6,
   "id": "07819c65",
   "metadata": {},
   "outputs": [],
   "source": [
    "result = llm.invoke(\"what is machine learning?\")"
   ]
  },
  {
   "cell_type": "code",
   "execution_count": 7,
   "id": "1a3258eb",
   "metadata": {},
   "outputs": [
    {
     "name": "stdout",
     "output_type": "stream",
     "text": [
      "content=\"Machine learning is a type of artificial intelligence (AI) that allows software applications to become more accurate at predicting outcomes without being explicitly programmed to do so. \\n\\nHere's a breakdown:\\n\\n**Key Concepts:**\\n\\n* **Data:** Machine learning algorithms learn from data. The more data they are trained on, the better they become at making predictions.\\n* **Algorithms:** These are the sets of rules that the computer follows to learn from the data. There are many different types of algorithms, each suited to different types of problems.\\n* **Training:** This is the process of feeding data into the algorithm so that it can learn the patterns and relationships within the data.\\n* **Predictions:** Once trained, the algorithm can be used to make predictions on new, unseen data.\\n\\n**How it Works:**\\n\\n1. **Data Collection:** Gather relevant data for the task you want the machine to learn.\\n2. **Data Preparation:** Clean, transform, and organize the data so that it can be used by the algorithm.\\n3. **Algorithm Selection:** Choose the appropriate algorithm for the type of problem you are trying to solve.\\n4. **Training:** Feed the prepared data into the algorithm and let it learn the patterns.\\n5. **Evaluation:** Test the trained algorithm on a separate set of data to see how well it performs.\\n6. **Deployment:** Once the algorithm is performing well, it can be deployed to make predictions on real-world data.\\n\\n**Types of Machine Learning:**\\n\\n* **Supervised Learning:** The algorithm is trained on labeled data, meaning that the desired output is known for each data point.\\n* **Unsupervised Learning:** The algorithm is trained on unlabeled data and must find patterns and relationships on its own.\\n* **Reinforcement Learning:** The algorithm learns by interacting with its environment and receiving rewards or penalties for its actions.\\n\\n**Examples of Machine Learning Applications:**\\n\\n* **Image Recognition:** Identifying objects, faces, and scenes in images.\\n* **Natural Language Processing:** Understanding and generating human language.\\n* **Recommendation Systems:** Suggesting products, movies, or music based on user preferences.\\n* **Fraud Detection:** Identifying fraudulent transactions.\\n* **Medical Diagnosis:** Assisting doctors in diagnosing diseases.\\n\\nMachine learning is a rapidly evolving field with the potential to revolutionize many industries.\\n\" additional_kwargs={} response_metadata={'token_usage': {'completion_tokens': 483, 'prompt_tokens': 14, 'total_tokens': 497, 'completion_time': 0.878181818, 'prompt_time': 0.001927738, 'queue_time': 0.016204311, 'total_time': 0.880109556}, 'model_name': 'gemma2-9b-it', 'system_fingerprint': 'fp_10c08bf97d', 'finish_reason': 'stop', 'logprobs': None} id='run--217e5302-8a4b-4937-b26b-dfa3cb72d658-0' usage_metadata={'input_tokens': 14, 'output_tokens': 483, 'total_tokens': 497}\n"
     ]
    }
   ],
   "source": [
    "print(result)"
   ]
  },
  {
   "cell_type": "code",
   "execution_count": 10,
   "id": "e0c10057",
   "metadata": {},
   "outputs": [
    {
     "data": {
      "text/plain": [
       "ChatPromptTemplate(input_variables=['input'], input_types={}, partial_variables={}, messages=[SystemMessagePromptTemplate(prompt=PromptTemplate(input_variables=[], input_types={}, partial_variables={}, template='You are an expert ai engineer. provide me answer based on questions'), additional_kwargs={}), HumanMessagePromptTemplate(prompt=PromptTemplate(input_variables=['input'], input_types={}, partial_variables={}, template='{input}'), additional_kwargs={})])"
      ]
     },
     "execution_count": 10,
     "metadata": {},
     "output_type": "execute_result"
    }
   ],
   "source": [
    "# create chat prompt template\n",
    "prompt = ChatPromptTemplate.from_messages([\n",
    "    ('system', \"You are an expert ai engineer. provide me answer based on questions\"),\n",
    "    (\"user\", \"{input}\")\n",
    "])\n",
    "prompt\n"
   ]
  },
  {
   "cell_type": "code",
   "execution_count": 12,
   "id": "b02090dd",
   "metadata": {},
   "outputs": [
    {
     "name": "stdout",
     "output_type": "stream",
     "text": [
      "content='Let\\'s dive into the world of machine learning!\\n\\n**What is Machine Learning?**\\n\\nAt its core, machine learning is a type of artificial intelligence (AI) that allows computers to learn from data *without* being explicitly programmed.  Instead of relying on rigid rules, machine learning algorithms identify patterns, make predictions, and improve their performance over time based on the data they are trained on.\\n\\n**Key Concepts:**\\n\\n* **Data:** The lifeblood of machine learning. Algorithms learn by analyzing vast amounts of data, identifying relationships and trends.\\n* **Algorithms:**  These are the engines that power machine learning. They are sets of instructions that guide the learning process. Common types include:\\n    * **Supervised Learning:**  The algorithm is trained on labeled data (input-output pairs) to predict outcomes for new, unseen data. Think of it like learning with a teacher who provides the answers. Examples: image classification, spam detection.\\n    * **Unsupervised Learning:**  The algorithm is given unlabeled data and must find patterns and structures on its own.  Think of it like exploring a new city without a map. Examples: customer segmentation, anomaly detection.\\n    * **Reinforcement Learning:** The algorithm learns through trial and error, receiving rewards for correct actions and penalties for incorrect ones. Think of it like training a dog with treats. Examples: game playing, robotics.\\n* **Training:** The process of feeding data to the algorithm so it can learn and improve.\\n* **Model:** The output of the training process. It\\'s a representation of the patterns and relationships the algorithm has learned.\\n\\n**Real-World Applications:**\\n\\nMachine learning is transforming countless industries:\\n\\n* **Healthcare:** Diagnosing diseases, predicting patient outcomes, drug discovery.\\n* **Finance:** Fraud detection, credit scoring, personalized financial advice.\\n* **Retail:** Recommendation systems, inventory management, customer churn prediction.\\n* **Transportation:** Self-driving cars, traffic optimization, predictive maintenance.\\n* **Entertainment:** Content recommendations, personalized music playlists, game AI.\\n\\n**Getting Started:**\\n\\nIf you\\'re interested in learning more about machine learning, there are many resources available:\\n\\n* **Online Courses:** Coursera, edX, Udacity offer excellent machine learning courses.\\n* **Books:** \"Hands-On Machine Learning with Scikit-Learn, Keras & TensorFlow\" by Aurélien Géron is a popular choice.\\n* **Open-Source Libraries:** Scikit-learn, TensorFlow, PyTorch provide the tools you need to build and experiment with machine learning models.\\n\\n\\nLet me know if you have any more questions!\\n' additional_kwargs={} response_metadata={'token_usage': {'completion_tokens': 545, 'prompt_tokens': 30, 'total_tokens': 575, 'completion_time': 0.990909091, 'prompt_time': 0.002134117, 'queue_time': 0.014935782, 'total_time': 0.993043208}, 'model_name': 'gemma2-9b-it', 'system_fingerprint': 'fp_10c08bf97d', 'finish_reason': 'stop', 'logprobs': None} id='run--0f43a148-658e-4517-b81d-267b03e8a6ab-0' usage_metadata={'input_tokens': 30, 'output_tokens': 545, 'total_tokens': 575}\n"
     ]
    }
   ],
   "source": [
    "chain = prompt | llm\n",
    "response = chain.invoke({\"input\": \"Can you tell me about machine learning?\"})\n",
    "print(response)"
   ]
  },
  {
   "cell_type": "code",
   "execution_count": 13,
   "id": "3b94db64",
   "metadata": {},
   "outputs": [
    {
     "data": {
      "text/plain": [
       "langchain_core.messages.ai.AIMessage"
      ]
     },
     "execution_count": 13,
     "metadata": {},
     "output_type": "execute_result"
    }
   ],
   "source": [
    "type(response)"
   ]
  },
  {
   "cell_type": "code",
   "execution_count": 14,
   "id": "923b6b65",
   "metadata": {},
   "outputs": [
    {
     "name": "stdout",
     "output_type": "stream",
     "text": [
      "Let's dive into the world of generative AI! \n",
      "\n",
      "**What is Generative AI?**\n",
      "\n",
      "Generative AI is a fascinating subfield of artificial intelligence that focuses on creating new content.  Think of it as AI that can imagine and produce things, rather than just analyzing existing data.  \n",
      "\n",
      "**How does it work?**\n",
      "\n",
      "Generative AI models are typically trained on massive datasets of text, images, audio, or other types of data.  They learn the underlying patterns and structures within this data.  Then, they use this learned knowledge to generate new content that resembles the training data but is not a direct copy.\n",
      "\n",
      "**Key Techniques:**\n",
      "\n",
      "* **Generative Adversarial Networks (GANs):**  These models consist of two competing neural networks: a generator that creates content and a discriminator that evaluates its authenticity. They work in a kind of \"arms race,\" pushing each other to improve.\n",
      "* **Transformer Networks (like GPT-3):**  These are powerful architectures particularly good at understanding and generating text. They are used in models like ChatGPT, which can write stories, articles, and even code.\n",
      "* **Variational Autoencoders (VAEs):**  VAEs learn a compressed representation of the input data and then use that representation to generate new variations.\n",
      "\n",
      "**Examples of Generative AI in Action:**\n",
      "\n",
      "* **Text Generation:** Writing stories, poems, articles, dialogue, summarizing text, translating languages.\n",
      "* **Image Generation:** Creating realistic images from text descriptions (imagine saying \"a cat wearing a hat\" and getting a picture!), generating artwork, enhancing low-resolution images.\n",
      "* **Audio Generation:**  Composing music, generating speech, creating sound effects.\n",
      "* **Code Generation:**  Writing computer code in different programming languages.\n",
      "\n",
      "**Benefits:**\n",
      "\n",
      "* **Creativity and Innovation:**  Generative AI can help us explore new ideas and possibilities.\n",
      "* **Automation:**  It can automate tasks like content creation, freeing up human time for more complex work.\n",
      "* **Personalization:**  Generative AI can create customized content tailored to individual users.\n",
      "\n",
      "**Challenges:**\n",
      "\n",
      "* **Bias:**  If trained on biased data, generative AI can perpetuate and amplify those biases.\n",
      "* **Misinformation:**  The ability to generate realistic content can be misused for creating fake news, deepfakes, and other harmful content.\n",
      "* **Copyright and Intellectual Property:**  There are ongoing debates about the ownership and copyright of content generated by AI.\n",
      "\n",
      "**The Future:**\n",
      "\n",
      "Generative AI is a rapidly evolving field with tremendous potential.  As models become more sophisticated and accessible, we can expect to see even more innovative applications emerge in areas like art, entertainment, education, and scientific research.\n",
      "\n",
      "\n",
      "Let me know if you have any other questions or want to explore a specific aspect of generative AI in more detail!\n",
      "\n"
     ]
    }
   ],
   "source": [
    "output_parser = StrOutputParser()\n",
    "chain = prompt | llm | output_parser\n",
    "\n",
    "response = chain.invoke({\"input\": \"Can you tell me about generative ai?\"})\n",
    "print(response)"
   ]
  },
  {
   "cell_type": "code",
   "execution_count": null,
   "id": "4bf39ad7",
   "metadata": {},
   "outputs": [],
   "source": []
  }
 ],
 "metadata": {
  "kernelspec": {
   "display_name": "Python 3",
   "language": "python",
   "name": "python3"
  },
  "language_info": {
   "codemirror_mode": {
    "name": "ipython",
    "version": 3
   },
   "file_extension": ".py",
   "mimetype": "text/x-python",
   "name": "python",
   "nbconvert_exporter": "python",
   "pygments_lexer": "ipython3",
   "version": "3.11.0"
  }
 },
 "nbformat": 4,
 "nbformat_minor": 5
}
