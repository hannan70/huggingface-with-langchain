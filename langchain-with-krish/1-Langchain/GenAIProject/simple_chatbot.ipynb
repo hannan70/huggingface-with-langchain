{
 "cells": [
  {
   "cell_type": "code",
   "execution_count": 1,
   "id": "9b217286",
   "metadata": {},
   "outputs": [],
   "source": [
    "import os\n",
    "from dotenv import load_dotenv\n",
    "load_dotenv()\n",
    "\n",
    "# load env file all variable\n",
    "os.environ['LANGCHAIN_PROJECT'] = os.getenv('LANGCHAIN_PROJECT')\n",
    "os.environ['LANGSMITH_API_KEY'] = os.getenv('LANGSMITH_API_KEY')\n",
    "os.environ['HUGGINGFACE_TOKEN'] = os.getenv('HUGGINGFACE_TOKEN')\n",
    "os.environ['GROQ_API_KEY'] = os.getenv('GROQ_API_KEY')\n",
    "\n",
    "from langchain_groq import ChatGroq\n",
    "from langchain_core.messages import HumanMessage, AIMessage, SystemMessage\n",
    "\n"
   ]
  },
  {
   "cell_type": "code",
   "execution_count": 2,
   "id": "abc793aa",
   "metadata": {},
   "outputs": [],
   "source": [
    "llm = ChatGroq(model='llama3-70b-8192')"
   ]
  },
  {
   "cell_type": "code",
   "execution_count": 3,
   "id": "f23fefe2",
   "metadata": {},
   "outputs": [
    {
     "data": {
      "text/plain": [
       "AIMessage(content=\"Hi Hannan! It's nice to meet you. As a machine learning engineer, you must be working on some exciting projects. What's your current focus? Are you working on a particular domain like computer vision, NLP, or something else?\\n\\nAlso, what kind of problems do you enjoy solving? Are you interested in the theoretical aspects of machine learning or do you prefer working on practical applications and deploying models to production?\", additional_kwargs={}, response_metadata={'token_usage': {'completion_tokens': 86, 'prompt_tokens': 23, 'total_tokens': 109, 'completion_time': 0.330678164, 'prompt_time': 0.000334426, 'queue_time': 0.223043519, 'total_time': 0.33101259}, 'model_name': 'llama3-70b-8192', 'system_fingerprint': 'fp_dd4ae1c591', 'finish_reason': 'stop', 'logprobs': None}, id='run--ef26e539-d153-4e5a-aee2-58d139596d3c-0', usage_metadata={'input_tokens': 23, 'output_tokens': 86, 'total_tokens': 109})"
      ]
     },
     "execution_count": 3,
     "metadata": {},
     "output_type": "execute_result"
    }
   ],
   "source": [
    "llm.invoke([HumanMessage(content=\"hi, i am hannan, i am a machine learning engineer\")])"
   ]
  },
  {
   "cell_type": "code",
   "execution_count": 4,
   "id": "0c7f5bec",
   "metadata": {},
   "outputs": [
    {
     "data": {
      "text/plain": [
       "AIMessage(content=\"Your name is Hannan, and you're a Machine Learning Engineer!\", additional_kwargs={}, response_metadata={'token_usage': {'completion_tokens': 15, 'prompt_tokens': 98, 'total_tokens': 113, 'completion_time': 0.053683469, 'prompt_time': 0.00378679, 'queue_time': 0.218991315, 'total_time': 0.057470259}, 'model_name': 'llama3-70b-8192', 'system_fingerprint': 'fp_dd4ae1c591', 'finish_reason': 'stop', 'logprobs': None}, id='run--11e582ce-3c03-49d9-81c7-40b04a9285ce-0', usage_metadata={'input_tokens': 98, 'output_tokens': 15, 'total_tokens': 113})"
      ]
     },
     "execution_count": 4,
     "metadata": {},
     "output_type": "execute_result"
    }
   ],
   "source": [
    "llm.invoke([\n",
    "    HumanMessage(content=\"hi, i am hannan, i am a machine learning engineer\"),\n",
    "    AIMessage(content=\"Hi Hannan! It's great to meet you. As a machine learning engineer, you must be working on some exciting projects. What kind of projects are you currently involved in? Are you working on any specific domains like NLP, Computer Vision, or something else?\"),\n",
    "    HumanMessage(content=\"Hey, whats my name and what do it do?\")\n",
    "])"
   ]
  },
  {
   "cell_type": "markdown",
   "id": "e9c946a1",
   "metadata": {},
   "source": [
    "#### Message history"
   ]
  },
  {
   "cell_type": "code",
   "execution_count": 5,
   "id": "d4525258",
   "metadata": {},
   "outputs": [],
   "source": [
    "from langchain_community.chat_message_histories import ChatMessageHistory\n",
    "from langchain_core.chat_history import BaseChatMessageHistory\n",
    "from langchain_core.runnables import RunnableWithMessageHistory"
   ]
  },
  {
   "cell_type": "code",
   "execution_count": 6,
   "id": "2f55adb1",
   "metadata": {},
   "outputs": [],
   "source": [
    "store = {}\n",
    "def get_session_history(session_id:str) -> BaseChatMessageHistory:\n",
    "    if session_id not in store:\n",
    "        store[session_id] = ChatMessageHistory()\n",
    "    return store[session_id]\n",
    "\n",
    "\n",
    "with_message_history = RunnableWithMessageHistory(llm, get_session_history)"
   ]
  },
  {
   "cell_type": "code",
   "execution_count": 7,
   "id": "3630eff1",
   "metadata": {},
   "outputs": [],
   "source": [
    "config = { \"configurable\": {\"session_id\": \"chat1\"}  }"
   ]
  },
  {
   "cell_type": "code",
   "execution_count": 8,
   "id": "519c7b83",
   "metadata": {},
   "outputs": [],
   "source": [
    "response = with_message_history.invoke(\n",
    "    [HumanMessage(content=\"hi, i am hannan, i am a machine learning engineer\")],\n",
    "    config=config\n",
    ")"
   ]
  },
  {
   "cell_type": "code",
   "execution_count": 9,
   "id": "21331f3a",
   "metadata": {},
   "outputs": [
    {
     "data": {
      "text/plain": [
       "'Hi Hannan, nice to meet you! As a machine learning engineer, you must be working on some exciting projects. What kind of projects are you currently working on? Are you more into NLP, Computer Vision, or something else?'"
      ]
     },
     "execution_count": 9,
     "metadata": {},
     "output_type": "execute_result"
    }
   ],
   "source": [
    "response.content"
   ]
  },
  {
   "cell_type": "code",
   "execution_count": 10,
   "id": "a03a1b3d",
   "metadata": {},
   "outputs": [],
   "source": [
    "response2 = with_message_history.invoke(\n",
    "    [HumanMessage(content='what is my name')],\n",
    "    config=config\n",
    ")"
   ]
  },
  {
   "cell_type": "code",
   "execution_count": 11,
   "id": "2ed4f76b",
   "metadata": {},
   "outputs": [
    {
     "data": {
      "text/plain": [
       "\"I remember! Your name is Hannan, and you're a machine learning engineer.\""
      ]
     },
     "execution_count": 11,
     "metadata": {},
     "output_type": "execute_result"
    }
   ],
   "source": [
    "response2.content"
   ]
  },
  {
   "cell_type": "code",
   "execution_count": 12,
   "id": "51e6adf3",
   "metadata": {},
   "outputs": [
    {
     "data": {
      "text/plain": [
       "\"I'm sorry! I don't know your name. I'm a large language model, I don't have the ability to know personal information about you. You didn't tell me your name, and I don't have any prior knowledge about you. If you'd like to share your name with me, I'd be happy to chat with you!\""
      ]
     },
     "execution_count": 12,
     "metadata": {},
     "output_type": "execute_result"
    }
   ],
   "source": [
    "# now lets create new session id\n",
    "config1 = { \"configurable\": {\"session_id\": \"chat2\"}}\n",
    "\n",
    "res = with_message_history.invoke(\n",
    "    [HumanMessage(content=\"what is my name?\")],\n",
    "    config=config1\n",
    ")\n",
    "\n",
    "res.content"
   ]
  },
  {
   "cell_type": "code",
   "execution_count": 13,
   "id": "357ddc52",
   "metadata": {},
   "outputs": [
    {
     "data": {
      "text/plain": [
       "\"Nice to meet you, Jhon! It's great that you shared your name with me. I'll make sure to address each other properly from now on. How's your day going so far, Jhon?\""
      ]
     },
     "execution_count": 13,
     "metadata": {},
     "output_type": "execute_result"
    }
   ],
   "source": [
    "\n",
    "res = with_message_history.invoke(\n",
    "    [HumanMessage(content=\"my name is jhon\")],\n",
    "    config=config1\n",
    ")\n",
    "\n",
    "res.content"
   ]
  },
  {
   "cell_type": "code",
   "execution_count": 14,
   "id": "e5286431",
   "metadata": {},
   "outputs": [
    {
     "data": {
      "text/plain": [
       "'I remember! Your name is Jhon.'"
      ]
     },
     "execution_count": 14,
     "metadata": {},
     "output_type": "execute_result"
    }
   ],
   "source": [
    "\n",
    "res = with_message_history.invoke(\n",
    "    [HumanMessage(content=\"what is my name?\")],\n",
    "    config=config1\n",
    ")\n",
    "\n",
    "res.content"
   ]
  },
  {
   "cell_type": "markdown",
   "id": "9d38f03b",
   "metadata": {},
   "source": [
    "#### Manage the conversation history"
   ]
  },
  {
   "cell_type": "code",
   "execution_count": 15,
   "id": "67f14537",
   "metadata": {},
   "outputs": [],
   "source": [
    "from langchain_core.messages import SystemMessage, trim_messages"
   ]
  },
  {
   "cell_type": "code",
   "execution_count": 60,
   "id": "1ab26391",
   "metadata": {},
   "outputs": [],
   "source": [
    "trimmer = trim_messages(\n",
    "    max_tokens=45,\n",
    "    token_counter=llm,\n",
    "    strategy=\"last\", # The tokens from the beginning will be kept. and `last` => The tokens from the ending will be kept.\n",
    "    allow_partial=True,\n",
    "    start_on=\"human\",\n",
    "    include_system = True\n",
    ")"
   ]
  },
  {
   "cell_type": "code",
   "execution_count": 122,
   "id": "82424c43",
   "metadata": {},
   "outputs": [
    {
     "data": {
      "text/plain": [
       "[SystemMessage(content='you are a good ai assistent', additional_kwargs={}, response_metadata={}),\n",
       " HumanMessage(content='what is 5 + 5', additional_kwargs={}, response_metadata={}),\n",
       " AIMessage(content='10', additional_kwargs={}, response_metadata={}),\n",
       " HumanMessage(content='Having fun!', additional_kwargs={}, response_metadata={}),\n",
       " AIMessage(content='yes', additional_kwargs={}, response_metadata={}),\n",
       " HumanMessage(content='Thank you very much', additional_kwargs={}, response_metadata={}),\n",
       " AIMessage(content='you are most welcome', additional_kwargs={}, response_metadata={})]"
      ]
     },
     "execution_count": 122,
     "metadata": {},
     "output_type": "execute_result"
    }
   ],
   "source": [
    "messages = [\n",
    "    SystemMessage(content=\"you are a good ai assistent\"),\n",
    "    HumanMessage(content=\"hello, i am hannan\"),\n",
    "    AIMessage(content=\"hi, i am AI\"),\n",
    "    HumanMessage(content=\"I like programming\"),\n",
    "    AIMessage(content=\"nice\"),\n",
    "    HumanMessage(content=\"what is 5 + 5\"),\n",
    "    AIMessage(content=\"10\"),\n",
    "    HumanMessage(content=\"Having fun!\"),\n",
    "    AIMessage(content=\"yes\"),\n",
    "    HumanMessage(content=\"Thank you very much\"),\n",
    "    AIMessage(content=\"you are most welcome\"),\n",
    "]\n",
    "trimmer.invoke(messages)"
   ]
  },
  {
   "cell_type": "markdown",
   "id": "93b2485e",
   "metadata": {},
   "source": [
    "#### Prompt template"
   ]
  },
  {
   "cell_type": "code",
   "execution_count": 64,
   "id": "f8fb6043",
   "metadata": {},
   "outputs": [],
   "source": [
    "from langchain_core.prompts import ChatPromptTemplate, MessagesPlaceholder"
   ]
  },
  {
   "cell_type": "code",
   "execution_count": 86,
   "id": "cf271616",
   "metadata": {},
   "outputs": [],
   "source": [
    "prompt = ChatPromptTemplate.from_messages(\n",
    "    [\n",
    "        (\"system\", \"you ara en expert ai assistent. provide me answer based on questions\"),\n",
    "        MessagesPlaceholder(variable_name=\"chat_history\")\n",
    "    ]\n",
    ")\n",
    "\n",
    "chain = prompt|llm\n"
   ]
  },
  {
   "cell_type": "code",
   "execution_count": 87,
   "id": "1a843ccd",
   "metadata": {},
   "outputs": [
    {
     "data": {
      "text/plain": [
       "AIMessage(content=\"Hi Hannan! It's nice to meet you. I'm your AI assistant, here to provide you with helpful and accurate answers to your questions. What's on your mind today? Do you have a specific question or topic you'd like to discuss?\", additional_kwargs={}, response_metadata={'token_usage': {'completion_tokens': 52, 'prompt_tokens': 36, 'total_tokens': 88, 'completion_time': 0.148571429, 'prompt_time': 0.000771921, 'queue_time': 0.21968833299999999, 'total_time': 0.14934335}, 'model_name': 'llama3-70b-8192', 'system_fingerprint': 'fp_dd4ae1c591', 'finish_reason': 'stop', 'logprobs': None}, id='run--089d7a8b-a5c0-4ead-baec-9c6f9e940e73-0', usage_metadata={'input_tokens': 36, 'output_tokens': 52, 'total_tokens': 88})"
      ]
     },
     "execution_count": 87,
     "metadata": {},
     "output_type": "execute_result"
    }
   ],
   "source": [
    "chain.invoke({'chat_history': [HumanMessage(content=\"hi! my name is hannan\")]})\n"
   ]
  },
  {
   "cell_type": "code",
   "execution_count": 88,
   "id": "5ec7ea94",
   "metadata": {},
   "outputs": [],
   "source": [
    "with_message_history = RunnableWithMessageHistory(chain, get_session_history)"
   ]
  },
  {
   "cell_type": "code",
   "execution_count": 90,
   "id": "47f6a36f",
   "metadata": {},
   "outputs": [],
   "source": [
    "config = {\"configurable\": {\"session_id\": \"chat4\"}}"
   ]
  },
  {
   "cell_type": "code",
   "execution_count": 92,
   "id": "197fff67",
   "metadata": {},
   "outputs": [
    {
     "data": {
      "text/plain": [
       "\"Nice to meet you, Hannan! It's great to have you interacting with me. Is there anything specific you'd like to talk about, ask, or discuss? I'm all ears (or rather, all text)!\""
      ]
     },
     "execution_count": 92,
     "metadata": {},
     "output_type": "execute_result"
    }
   ],
   "source": [
    "response = with_message_history.invoke(\n",
    "    [HumanMessage(content=\"My name is Hannan\")],\n",
    "    config=config\n",
    ")\n",
    "\n",
    "response.content"
   ]
  },
  {
   "cell_type": "code",
   "execution_count": 93,
   "id": "1237f09a",
   "metadata": {},
   "outputs": [
    {
     "data": {
      "text/plain": [
       "'I remember! Your name is Hannan.'"
      ]
     },
     "execution_count": 93,
     "metadata": {},
     "output_type": "execute_result"
    }
   ],
   "source": [
    "response = with_message_history.invoke(\n",
    "    [HumanMessage(content=\"What is my name?\")],\n",
    "    config=config\n",
    ")\n",
    "\n",
    "response.content"
   ]
  },
  {
   "cell_type": "code",
   "execution_count": 97,
   "id": "f61f0b08",
   "metadata": {},
   "outputs": [],
   "source": [
    "prompt = ChatPromptTemplate.from_messages(\n",
    "    [\n",
    "        (\"system\", \"you ara en expert ai assistent. Answer all questions to the best of your ability in {language}\"),\n",
    "        MessagesPlaceholder(variable_name=\"chat_history\")\n",
    "    ]\n",
    ")\n",
    "chain = prompt | llm"
   ]
  },
  {
   "cell_type": "code",
   "execution_count": 99,
   "id": "299ddad1",
   "metadata": {},
   "outputs": [
    {
     "data": {
      "text/plain": [
       "'नमस्ते हनन! मैं एक एक्सपर्ट एआई असिस्टेंट हूँ। मैं आपकी सभी प्रश्नों का उत्तर देने का प्रयास करूँगा। क्या आप मुझसे कुछ पूछना चाहते हैं?'"
      ]
     },
     "execution_count": 99,
     "metadata": {},
     "output_type": "execute_result"
    }
   ],
   "source": [
    "result = chain.invoke({\n",
    "    \"chat_history\": [HumanMessage(content=\"Hi, my name is Hannan\")],\n",
    "    \"language\": \"hindi\"\n",
    "})\n",
    "result.content"
   ]
  },
  {
   "cell_type": "code",
   "execution_count": 100,
   "id": "cb97d2cb",
   "metadata": {},
   "outputs": [
    {
     "data": {
      "text/plain": [
       "'নমস্কার হান্নান) ! আমি আপনাকে সহায়তা করতে পারি । আপনি কি আমাকে কিছু জিজ্ঞাসা করতে চান?'"
      ]
     },
     "execution_count": 100,
     "metadata": {},
     "output_type": "execute_result"
    }
   ],
   "source": [
    "result = chain.invoke({\n",
    "    \"chat_history\": [HumanMessage(content=\"Hi, my name is Hannan\")],\n",
    "    \"language\": \"bangla\"\n",
    "})\n",
    "result.content"
   ]
  },
  {
   "cell_type": "code",
   "execution_count": null,
   "id": "8f841e16",
   "metadata": {},
   "outputs": [],
   "source": [
    "result = chain.invoke({\n",
    "    \"chat_history\": [HumanMessage(content=\"Hi, my name is Hannan\")],\n",
    "    \"language\": \"japanes\"\n",
    "})\n",
    "result.content"
   ]
  },
  {
   "cell_type": "code",
   "execution_count": 101,
   "id": "6ce33cdd",
   "metadata": {},
   "outputs": [],
   "source": [
    "with_message_history = RunnableWithMessageHistory(\n",
    "    chain,\n",
    "    get_session_history,\n",
    "    input_messages_key=\"chat_history\"\n",
    ")"
   ]
  },
  {
   "cell_type": "code",
   "execution_count": 107,
   "id": "0f652ac4",
   "metadata": {},
   "outputs": [],
   "source": [
    "config4 = {\"configurable\": {\"session_id\": \"chat5\"}}"
   ]
  },
  {
   "cell_type": "code",
   "execution_count": 108,
   "id": "b2ad0a02",
   "metadata": {},
   "outputs": [],
   "source": [
    "response = with_message_history.invoke(\n",
    "    {\"chat_history\": [HumanMessage(content=\"my name is Hannan\")], \"language\": \"bangla\"},\n",
    "    config=config4\n",
    ")"
   ]
  },
  {
   "cell_type": "code",
   "execution_count": 109,
   "id": "30c33820",
   "metadata": {},
   "outputs": [
    {
     "data": {
      "text/plain": [
       "'ালিকুম! আমি খুশি যে আপনার নাম হান্নান। আপনার সাথে কথা বলতে আমি খুব খুশি। কী বিষয়ে আপনি আমার সাহায্য চান?'"
      ]
     },
     "execution_count": 109,
     "metadata": {},
     "output_type": "execute_result"
    }
   ],
   "source": [
    "response.content"
   ]
  },
  {
   "cell_type": "code",
   "execution_count": 110,
   "id": "b4b08d80",
   "metadata": {},
   "outputs": [],
   "source": [
    "response = with_message_history.invoke(\n",
    "    {\"chat_history\": [HumanMessage(content=\"What is my name\")], \"language\": \"bangla\"},\n",
    "    config=config4\n",
    ")"
   ]
  },
  {
   "cell_type": "code",
   "execution_count": 111,
   "id": "669ba19b",
   "metadata": {},
   "outputs": [
    {
     "data": {
      "text/plain": [
       "'আপনার নাম হান্নান!'"
      ]
     },
     "execution_count": 111,
     "metadata": {},
     "output_type": "execute_result"
    }
   ],
   "source": [
    "response.content"
   ]
  },
  {
   "cell_type": "code",
   "execution_count": 112,
   "id": "f182aefe",
   "metadata": {},
   "outputs": [
    {
     "data": {
      "text/plain": [
       "'আহা! কম্পিউটার প্রোগ্রামিং আপনার পছন্দ! আপ্রোগ্রামিং ভাষা কোনটা আপনার সবচেয়ে পছন্দ? জাভা, পাইথন, সি++, না কি অন্য কিছু?'"
      ]
     },
     "execution_count": 112,
     "metadata": {},
     "output_type": "execute_result"
    }
   ],
   "source": [
    "response = with_message_history.invoke(\n",
    "    {\"chat_history\": [HumanMessage(content=\"i love computer programming\")], \"language\": \"bangla\"},\n",
    "    config=config4\n",
    ")\n",
    "response.content"
   ]
  },
  {
   "cell_type": "code",
   "execution_count": 113,
   "id": "7c62be8e",
   "metadata": {},
   "outputs": [
    {
     "data": {
      "text/plain": [
       "'আহা! মেশিন লার্নিংজ ইঞ্জিনিয়ার আপনি! আপনি কোন ধরনের প্রজেক্টে কাজ করছেন? কম্পিউটার ভিশন, ন্যাচারাল ল্যাঙ্গুইজ প্রসেসিং, বা অন্য কিছু?'"
      ]
     },
     "execution_count": 113,
     "metadata": {},
     "output_type": "execute_result"
    }
   ],
   "source": [
    "response = with_message_history.invoke(\n",
    "    {\"chat_history\": [HumanMessage(content=\"i love python\"), HumanMessage(content=\"i am a machine learning engineer\")], \"language\": \"bangla\"},\n",
    "    config=config4\n",
    ")\n",
    "response.content"
   ]
  },
  {
   "cell_type": "code",
   "execution_count": 114,
   "id": "8c1940e0",
   "metadata": {},
   "outputs": [
    {
     "data": {
      "text/plain": [
       "'আহা! আপনি পাইথন ভাষা পছন্দ করেন!'"
      ]
     },
     "execution_count": 114,
     "metadata": {},
     "output_type": "execute_result"
    }
   ],
   "source": [
    "response = with_message_history.invoke(\n",
    "    {\"chat_history\": [HumanMessage(content=\"which programming language i love\")], \"language\": \"bangla\"},\n",
    "    config=config4\n",
    ")\n",
    "response.content"
   ]
  },
  {
   "cell_type": "code",
   "execution_count": 115,
   "id": "e8e3bfd8",
   "metadata": {},
   "outputs": [
    {
     "data": {
      "text/plain": [
       "'আহা! আপনি একজন মেশিন লার্নিংজ ইঞ্জিনিয়ার!'"
      ]
     },
     "execution_count": 115,
     "metadata": {},
     "output_type": "execute_result"
    }
   ],
   "source": [
    "response = with_message_history.invoke(\n",
    "    {\"chat_history\": [HumanMessage(content=\"what is my profession?\")], \"language\": \"bangla\"},\n",
    "    config=config4\n",
    ")\n",
    "response.content"
   ]
  },
  {
   "cell_type": "code",
   "execution_count": null,
   "id": "d0912a3a",
   "metadata": {},
   "outputs": [],
   "source": []
  },
  {
   "cell_type": "code",
   "execution_count": null,
   "id": "40f66666",
   "metadata": {},
   "outputs": [],
   "source": []
  },
  {
   "cell_type": "code",
   "execution_count": null,
   "id": "c35193b7",
   "metadata": {},
   "outputs": [],
   "source": []
  }
 ],
 "metadata": {
  "kernelspec": {
   "display_name": "Python 3",
   "language": "python",
   "name": "python3"
  },
  "language_info": {
   "codemirror_mode": {
    "name": "ipython",
    "version": 3
   },
   "file_extension": ".py",
   "mimetype": "text/x-python",
   "name": "python",
   "nbconvert_exporter": "python",
   "pygments_lexer": "ipython3",
   "version": "3.11.0"
  }
 },
 "nbformat": 4,
 "nbformat_minor": 5
}
