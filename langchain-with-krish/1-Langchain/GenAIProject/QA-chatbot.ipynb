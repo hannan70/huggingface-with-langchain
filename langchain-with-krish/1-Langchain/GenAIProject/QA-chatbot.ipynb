{
 "cells": [
  {
   "cell_type": "code",
   "execution_count": 1,
   "id": "005ab397",
   "metadata": {},
   "outputs": [],
   "source": [
    "import os\n",
    "from dotenv import load_dotenv\n",
    "load_dotenv()\n",
    "\n",
    "# laod all env variable\n",
    "os.environ['HUGGINGFACE_TOKEN'] = os.getenv('HUGGINGFACE_TOKEN')\n",
    "os.environ['GROQ_API_KEY'] = os.getenv('GROQ_API_KEY')\n",
    "\n",
    "\n",
    "from langchain_groq import ChatGroq\n",
    "from langchain_community.document_loaders import TextLoader\n",
    "from langchain_text_splitters import RecursiveCharacterTextSplitter\n",
    "from langchain_huggingface import HuggingFaceEmbeddings\n",
    "from langchain_chroma import Chroma\n",
    "from langchain_core.prompts import ChatPromptTemplate\n",
    "from langchain.chains import create_retrieval_chain\n",
    "from langchain.chains.combine_documents import create_stuff_documents_chain\n"
   ]
  },
  {
   "cell_type": "code",
   "execution_count": 2,
   "id": "60194618",
   "metadata": {},
   "outputs": [
    {
     "data": {
      "text/plain": [
       "ChatGroq(client=<groq.resources.chat.completions.Completions object at 0x000001F4C6CFCD10>, async_client=<groq.resources.chat.completions.AsyncCompletions object at 0x000001F4C6E31290>, model_name='Llama3-8b-8192', model_kwargs={}, groq_api_key=SecretStr('**********'))"
      ]
     },
     "execution_count": 2,
     "metadata": {},
     "output_type": "execute_result"
    }
   ],
   "source": [
    "llm = ChatGroq(model='Llama3-8b-8192')\n",
    "llm"
   ]
  },
  {
   "cell_type": "code",
   "execution_count": 3,
   "id": "9aa96f17",
   "metadata": {},
   "outputs": [],
   "source": [
    "# load machine learning text file\n",
    "loader = TextLoader('../1.3-textsplitter/machine-learning.txt')\n",
    "docs = loader.load()"
   ]
  },
  {
   "cell_type": "code",
   "execution_count": 4,
   "id": "7ee3ca92",
   "metadata": {},
   "outputs": [
    {
     "data": {
      "text/plain": [
       "[Document(metadata={'source': '../1.3-textsplitter/machine-learning.txt'}, page_content='The Rise of Artificial Intelligence: Transforming the World as We Know It\\nArtificial Intelligence (AI) has become one of the most transformative technologies of the 21st century. From personalized recommendations on streaming platforms to sophisticated systems that can detect diseases or drive cars, AI is reshaping how we live, work, and interact with the world. But what exactly is AI, how does it work, and what does its rapid growth mean for our future?'),\n",
       " Document(metadata={'source': '../1.3-textsplitter/machine-learning.txt'}, page_content=\"What is Artificial Intelligence?\\nAt its core, Artificial Intelligence refers to machines or software that mimic human intelligence. This includes the ability to learn from data, reason through problems, understand language, perceive their environment, and even exhibit creativity. AI doesn't refer to one single technology but rather a collection of technologies and methods that enable computers to perform tasks that typically require human intelligence.\"),\n",
       " Document(metadata={'source': '../1.3-textsplitter/machine-learning.txt'}, page_content='The concept of AI is not new. It dates back to the 1950s, when researchers like Alan Turing and John McCarthy began exploring the idea of machines that could \"think.\" Since then, advances in computing power, data availability, and machine learning algorithms have propelled AI from theory to practical application.'),\n",
       " Document(metadata={'source': '../1.3-textsplitter/machine-learning.txt'}, page_content='How AI Works\\nModern AI largely relies on a subset of computer science called machine learning (ML), where systems learn patterns from data and improve over time without being explicitly programmed. For instance, a machine learning model trained on thousands of cat images can learn to recognize cats in new images with surprising accuracy.'),\n",
       " Document(metadata={'source': '../1.3-textsplitter/machine-learning.txt'}, page_content='Another important subset of AI is deep learning, which uses artificial neural networks inspired by the human brain. Deep learning has enabled significant breakthroughs in areas such as speech recognition, computer vision, and natural language processing.\\n\\nKey components that power AI systems include:\\n\\nData: AI needs large volumes of data to learn patterns.\\n\\nAlgorithms: These are sets of rules or models that process data and make predictions or decisions.'),\n",
       " Document(metadata={'source': '../1.3-textsplitter/machine-learning.txt'}, page_content='Computing Power: Advanced hardware like GPUs allows models to process data efficiently and at scale.\\n\\nReal-World Applications of AI\\nAI is no longer confined to research labs; it’s embedded in many aspects of daily life. Here are a few areas where AI is making a significant impact:'),\n",
       " Document(metadata={'source': '../1.3-textsplitter/machine-learning.txt'}, page_content='1. Healthcare\\nAI is revolutionizing healthcare with applications ranging from early diagnosis to personalized treatment plans. Machine learning models can analyze medical images to detect diseases like cancer earlier and with greater accuracy than traditional methods. AI-powered chatbots and virtual assistants are also helping patients manage their health.'),\n",
       " Document(metadata={'source': '../1.3-textsplitter/machine-learning.txt'}, page_content='2. Finance\\nIn the financial sector, AI is used for fraud detection, risk assessment, and automated trading. Algorithms can analyze vast amounts of financial data in real-time to identify suspicious activity or make split-second investment decisions.'),\n",
       " Document(metadata={'source': '../1.3-textsplitter/machine-learning.txt'}, page_content='3. Transportation\\nSelf-driving cars are one of the most well-known applications of AI. Companies like Tesla, Waymo, and others are developing autonomous vehicles that can navigate roads with minimal human input. AI is also used in logistics to optimize delivery routes and reduce costs.'),\n",
       " Document(metadata={'source': '../1.3-textsplitter/machine-learning.txt'}, page_content='4. Entertainment and Media\\nFrom Netflix recommending your next favorite show to AI-generated music and art, the creative industries are embracing AI. Natural language processing enables voice assistants like Alexa and Siri to understand and respond to human queries.\\n\\n5. Customer Service\\nChatbots and virtual agents, powered by AI, are now common in customer service. These systems can handle basic queries, resolve issues, and even escalate more complex problems to human agents when needed.'),\n",
       " Document(metadata={'source': '../1.3-textsplitter/machine-learning.txt'}, page_content='Benefits of AI\\nAI offers several compelling benefits:\\n\\nEfficiency: AI can automate repetitive tasks, reducing human effort and saving time.\\n\\nAccuracy: In areas like healthcare and manufacturing, AI can reduce errors and improve precision.\\n\\nScalability: AI systems can analyze data at a scale that would be impossible for humans.\\n\\n24/7 Availability: Unlike humans, AI systems don’t get tired and can work continuously.'),\n",
       " Document(metadata={'source': '../1.3-textsplitter/machine-learning.txt'}, page_content='Ethical and Societal Challenges\\nWhile AI brings significant advantages, it also raises important ethical and societal concerns:\\n\\n1. Job Displacement\\nAutomation threatens to replace many low-skilled and even some high-skilled jobs. While AI can boost productivity, it may also lead to economic disruption and increased inequality if not managed properly.'),\n",
       " Document(metadata={'source': '../1.3-textsplitter/machine-learning.txt'}, page_content='2. Bias and Fairness\\nAI systems can inherit biases present in training data. This can lead to unfair or discriminatory outcomes, especially in areas like hiring, lending, or law enforcement. Ensuring fairness and transparency in AI decision-making is a growing concern.'),\n",
       " Document(metadata={'source': '../1.3-textsplitter/machine-learning.txt'}, page_content='3. Privacy\\nAI often requires large amounts of personal data, raising concerns about surveillance and data misuse. Regulatory frameworks like GDPR are trying to address these issues, but the balance between innovation and privacy remains delicate.\\n\\n4. Autonomy and Control\\nAs AI systems become more capable, questions arise about how much control we should give them. Who is accountable if a self-driving car causes an accident? How do we ensure AI systems act in our best interest?'),\n",
       " Document(metadata={'source': '../1.3-textsplitter/machine-learning.txt'}, page_content='The Future of AI\\nThe future of AI holds immense promise. Some experts envision AI systems that can reason more like humans, learn with less data, and even exhibit forms of general intelligence — where a machine can perform any intellectual task a human can.\\n\\nHere are a few exciting directions AI is heading:\\n\\nExplainable AI: Developing systems that can explain their reasoning and decisions in ways humans can understand.'),\n",
       " Document(metadata={'source': '../1.3-textsplitter/machine-learning.txt'}, page_content=\"AI in Education: Personalized learning systems that adapt to each student's needs and learning style.\\n\\nAI for Sustainability: Optimizing energy use, managing natural resources, and combating climate change with smarter systems.\\n\\nCollaborative AI: Building systems that work alongside humans to enhance creativity, problem-solving, and decision-making.\"),\n",
       " Document(metadata={'source': '../1.3-textsplitter/machine-learning.txt'}, page_content='Conclusion\\nArtificial Intelligence is not just a buzzword or a futuristic fantasy — it is already transforming industries, economies, and societies. Like any powerful technology, AI comes with both opportunities and risks. As we continue to integrate AI into our world, it’s crucial that we do so thoughtfully, ethically, and inclusively.'),\n",
       " Document(metadata={'source': '../1.3-textsplitter/machine-learning.txt'}, page_content='Whether we’re designing AI systems, using them in our work, or simply interacting with them in our daily lives, understanding the fundamentals of AI empowers us to make better decisions and shape a future where technology serves humanity — not the other way around.')]"
      ]
     },
     "execution_count": 4,
     "metadata": {},
     "output_type": "execute_result"
    }
   ],
   "source": [
    "# split the text\n",
    "text_splitter = RecursiveCharacterTextSplitter(chunk_size=500, chunk_overlap=50)\n",
    "documents = text_splitter.split_documents(docs)\n",
    "documents"
   ]
  },
  {
   "cell_type": "code",
   "execution_count": 5,
   "id": "85b20c4f",
   "metadata": {},
   "outputs": [
    {
     "name": "stderr",
     "output_type": "stream",
     "text": [
      "d:\\machine-learning\\huggingface-langchain\\langchain-with-krish\\venv\\Lib\\site-packages\\tqdm\\auto.py:21: TqdmWarning: IProgress not found. Please update jupyter and ipywidgets. See https://ipywidgets.readthedocs.io/en/stable/user_install.html\n",
      "  from .autonotebook import tqdm as notebook_tqdm\n"
     ]
    }
   ],
   "source": [
    "# embedding all text doc\n",
    "embedding = HuggingFaceEmbeddings(model='all-MiniLM-L6-v2')"
   ]
  },
  {
   "cell_type": "code",
   "execution_count": 6,
   "id": "4ef20c0b",
   "metadata": {},
   "outputs": [],
   "source": [
    "# embed data inside vector database\n",
    "vector_store = Chroma.from_documents(documents, embedding)"
   ]
  },
  {
   "cell_type": "code",
   "execution_count": 8,
   "id": "bf040613",
   "metadata": {},
   "outputs": [
    {
     "data": {
      "text/plain": [
       "[Document(id='121dfd81-f440-4cd3-8207-f7b61e72199a', metadata={'source': '../1.3-textsplitter/machine-learning.txt'}, page_content='How AI Works\\nModern AI largely relies on a subset of computer science called machine learning (ML), where systems learn patterns from data and improve over time without being explicitly programmed. For instance, a machine learning model trained on thousands of cat images can learn to recognize cats in new images with surprising accuracy.'),\n",
       " Document(id='fa628a49-3a1d-42d5-b8c8-4cef28373a26', metadata={'source': '../1.3-textsplitter/machine-learning.txt'}, page_content='1. Healthcare\\nAI is revolutionizing healthcare with applications ranging from early diagnosis to personalized treatment plans. Machine learning models can analyze medical images to detect diseases like cancer earlier and with greater accuracy than traditional methods. AI-powered chatbots and virtual assistants are also helping patients manage their health.'),\n",
       " Document(id='6aa518c9-1267-46df-8b99-1a5481a685ff', metadata={'source': '../1.3-textsplitter/machine-learning.txt'}, page_content=\"What is Artificial Intelligence?\\nAt its core, Artificial Intelligence refers to machines or software that mimic human intelligence. This includes the ability to learn from data, reason through problems, understand language, perceive their environment, and even exhibit creativity. AI doesn't refer to one single technology but rather a collection of technologies and methods that enable computers to perform tasks that typically require human intelligence.\"),\n",
       " Document(id='620526ba-6777-4853-b357-56734eeefb4e', metadata={'source': '../1.3-textsplitter/machine-learning.txt'}, page_content='Another important subset of AI is deep learning, which uses artificial neural networks inspired by the human brain. Deep learning has enabled significant breakthroughs in areas such as speech recognition, computer vision, and natural language processing.\\n\\nKey components that power AI systems include:\\n\\nData: AI needs large volumes of data to learn patterns.\\n\\nAlgorithms: These are sets of rules or models that process data and make predictions or decisions.')]"
      ]
     },
     "execution_count": 8,
     "metadata": {},
     "output_type": "execute_result"
    }
   ],
   "source": [
    "vector_store.similarity_search(\"what is machine learning?\")"
   ]
  },
  {
   "cell_type": "code",
   "execution_count": 9,
   "id": "50ae309f",
   "metadata": {},
   "outputs": [
    {
     "data": {
      "text/plain": [
       "[Document(id='121dfd81-f440-4cd3-8207-f7b61e72199a', metadata={'source': '../1.3-textsplitter/machine-learning.txt'}, page_content='How AI Works\\nModern AI largely relies on a subset of computer science called machine learning (ML), where systems learn patterns from data and improve over time without being explicitly programmed. For instance, a machine learning model trained on thousands of cat images can learn to recognize cats in new images with surprising accuracy.'),\n",
       " Document(id='fa628a49-3a1d-42d5-b8c8-4cef28373a26', metadata={'source': '../1.3-textsplitter/machine-learning.txt'}, page_content='1. Healthcare\\nAI is revolutionizing healthcare with applications ranging from early diagnosis to personalized treatment plans. Machine learning models can analyze medical images to detect diseases like cancer earlier and with greater accuracy than traditional methods. AI-powered chatbots and virtual assistants are also helping patients manage their health.'),\n",
       " Document(id='620526ba-6777-4853-b357-56734eeefb4e', metadata={'source': '../1.3-textsplitter/machine-learning.txt'}, page_content='Another important subset of AI is deep learning, which uses artificial neural networks inspired by the human brain. Deep learning has enabled significant breakthroughs in areas such as speech recognition, computer vision, and natural language processing.\\n\\nKey components that power AI systems include:\\n\\nData: AI needs large volumes of data to learn patterns.\\n\\nAlgorithms: These are sets of rules or models that process data and make predictions or decisions.'),\n",
       " Document(id='6aa518c9-1267-46df-8b99-1a5481a685ff', metadata={'source': '../1.3-textsplitter/machine-learning.txt'}, page_content=\"What is Artificial Intelligence?\\nAt its core, Artificial Intelligence refers to machines or software that mimic human intelligence. This includes the ability to learn from data, reason through problems, understand language, perceive their environment, and even exhibit creativity. AI doesn't refer to one single technology but rather a collection of technologies and methods that enable computers to perform tasks that typically require human intelligence.\")]"
      ]
     },
     "execution_count": 9,
     "metadata": {},
     "output_type": "execute_result"
    }
   ],
   "source": [
    "retriver = vector_store.as_retriever()\n",
    "retriver.invoke(\"what is machine learning\")"
   ]
  },
  {
   "cell_type": "code",
   "execution_count": 10,
   "id": "99587bcd",
   "metadata": {},
   "outputs": [],
   "source": [
    "prompt = ChatPromptTemplate.from_template(\n",
    "    \"\"\"\n",
    "    You are an expert AI assistant. Answer the following question based only on the context below.\n",
    "    \n",
    "    <context>\n",
    "    {context}\n",
    "    </context>\n",
    "\n",
    "    Question: {input}\n",
    "\n",
    "    Answer in a clear, concise way.\n",
    "    \"\"\"\n",
    ")"
   ]
  },
  {
   "cell_type": "code",
   "execution_count": 11,
   "id": "75aad548",
   "metadata": {},
   "outputs": [],
   "source": [
    "question_answer_chain = create_stuff_documents_chain(llm, prompt)\n",
    "rag_chain = create_retrieval_chain(retriver, question_answer_chain)"
   ]
  },
  {
   "cell_type": "code",
   "execution_count": 12,
   "id": "01530d92",
   "metadata": {},
   "outputs": [],
   "source": [
    "response = rag_chain.invoke({\"input\": \"whai is machine learning?\"})"
   ]
  },
  {
   "cell_type": "code",
   "execution_count": 13,
   "id": "33a07ee3",
   "metadata": {},
   "outputs": [
    {
     "data": {
      "text/plain": [
       "{'input': 'whai is machine learning?',\n",
       " 'context': [Document(id='121dfd81-f440-4cd3-8207-f7b61e72199a', metadata={'source': '../1.3-textsplitter/machine-learning.txt'}, page_content='How AI Works\\nModern AI largely relies on a subset of computer science called machine learning (ML), where systems learn patterns from data and improve over time without being explicitly programmed. For instance, a machine learning model trained on thousands of cat images can learn to recognize cats in new images with surprising accuracy.'),\n",
       "  Document(id='620526ba-6777-4853-b357-56734eeefb4e', metadata={'source': '../1.3-textsplitter/machine-learning.txt'}, page_content='Another important subset of AI is deep learning, which uses artificial neural networks inspired by the human brain. Deep learning has enabled significant breakthroughs in areas such as speech recognition, computer vision, and natural language processing.\\n\\nKey components that power AI systems include:\\n\\nData: AI needs large volumes of data to learn patterns.\\n\\nAlgorithms: These are sets of rules or models that process data and make predictions or decisions.'),\n",
       "  Document(id='fa628a49-3a1d-42d5-b8c8-4cef28373a26', metadata={'source': '../1.3-textsplitter/machine-learning.txt'}, page_content='1. Healthcare\\nAI is revolutionizing healthcare with applications ranging from early diagnosis to personalized treatment plans. Machine learning models can analyze medical images to detect diseases like cancer earlier and with greater accuracy than traditional methods. AI-powered chatbots and virtual assistants are also helping patients manage their health.'),\n",
       "  Document(id='9d289583-bcd8-4941-b261-899c8b627d6d', metadata={'source': '../1.3-textsplitter/machine-learning.txt'}, page_content='The concept of AI is not new. It dates back to the 1950s, when researchers like Alan Turing and John McCarthy began exploring the idea of machines that could \"think.\" Since then, advances in computing power, data availability, and machine learning algorithms have propelled AI from theory to practical application.')],\n",
       " 'answer': 'Based on the context, machine learning is a subset of computer science that enables systems to learn patterns from data and improve over time without being explicitly programmed.'}"
      ]
     },
     "execution_count": 13,
     "metadata": {},
     "output_type": "execute_result"
    }
   ],
   "source": [
    "response"
   ]
  },
  {
   "cell_type": "code",
   "execution_count": 14,
   "id": "d186c99f",
   "metadata": {},
   "outputs": [
    {
     "data": {
      "text/plain": [
       "'Based on the context, machine learning is a subset of computer science that enables systems to learn patterns from data and improve over time without being explicitly programmed.'"
      ]
     },
     "execution_count": 14,
     "metadata": {},
     "output_type": "execute_result"
    }
   ],
   "source": [
    "response['answer']"
   ]
  },
  {
   "cell_type": "code",
   "execution_count": 30,
   "id": "787d903a",
   "metadata": {},
   "outputs": [],
   "source": [
    "response = rag_chain.invoke({\"input\": \"whai is deep learning?\"})"
   ]
  },
  {
   "cell_type": "code",
   "execution_count": 31,
   "id": "76d23f3a",
   "metadata": {},
   "outputs": [
    {
     "data": {
      "text/plain": [
       "'According to the context, deep learning is a subset of AI that uses artificial neural networks inspired by the human brain, enabling significant breakthroughs in areas such as speech recognition, computer vision, and natural language processing.'"
      ]
     },
     "execution_count": 31,
     "metadata": {},
     "output_type": "execute_result"
    }
   ],
   "source": [
    "response['answer']"
   ]
  },
  {
   "cell_type": "markdown",
   "id": "6e70fb33",
   "metadata": {},
   "source": [
    "#### Adding Chat History"
   ]
  },
  {
   "cell_type": "code",
   "execution_count": 15,
   "id": "a258b5eb",
   "metadata": {},
   "outputs": [],
   "source": [
    "from langchain.chains import create_history_aware_retriever\n",
    "from langchain_core.prompts import MessagesPlaceholder"
   ]
  },
  {
   "cell_type": "code",
   "execution_count": 16,
   "id": "0a13f341",
   "metadata": {},
   "outputs": [],
   "source": [
    "contextualize_q_system_prompt = (\n",
    "    \"Given a chat history and the latest user question \"\n",
    "    \"which might reference context in the chat history, \"\n",
    "    \"formulate a standalone question which can be understood \"\n",
    "    \"without the chat history. Do NOT answer the question, \"\n",
    "    \"just reformulate it if needed and otherwise return it as is.\"\n",
    ")\n",
    "contextualize_q_prompt = ChatPromptTemplate.from_messages(\n",
    "    [\n",
    "        (\"system\", contextualize_q_system_prompt),\n",
    "        MessagesPlaceholder(\"chat_history\"),\n",
    "        (\"human\", \"{input}\"),\n",
    "    ]\n",
    ")"
   ]
  },
  {
   "cell_type": "code",
   "execution_count": 17,
   "id": "b507db99",
   "metadata": {},
   "outputs": [
    {
     "data": {
      "text/plain": [
       "RunnableBinding(bound=RunnableBranch(branches=[(RunnableLambda(lambda x: not x.get('chat_history', False)), RunnableLambda(lambda x: x['input'])\n",
       "| VectorStoreRetriever(tags=['Chroma', 'HuggingFaceEmbeddings'], vectorstore=<langchain_chroma.vectorstores.Chroma object at 0x000001F4E317FE90>, search_kwargs={}))], default=ChatPromptTemplate(input_variables=['chat_history', 'input'], input_types={'chat_history': list[typing.Annotated[typing.Union[typing.Annotated[langchain_core.messages.ai.AIMessage, Tag(tag='ai')], typing.Annotated[langchain_core.messages.human.HumanMessage, Tag(tag='human')], typing.Annotated[langchain_core.messages.chat.ChatMessage, Tag(tag='chat')], typing.Annotated[langchain_core.messages.system.SystemMessage, Tag(tag='system')], typing.Annotated[langchain_core.messages.function.FunctionMessage, Tag(tag='function')], typing.Annotated[langchain_core.messages.tool.ToolMessage, Tag(tag='tool')], typing.Annotated[langchain_core.messages.ai.AIMessageChunk, Tag(tag='AIMessageChunk')], typing.Annotated[langchain_core.messages.human.HumanMessageChunk, Tag(tag='HumanMessageChunk')], typing.Annotated[langchain_core.messages.chat.ChatMessageChunk, Tag(tag='ChatMessageChunk')], typing.Annotated[langchain_core.messages.system.SystemMessageChunk, Tag(tag='SystemMessageChunk')], typing.Annotated[langchain_core.messages.function.FunctionMessageChunk, Tag(tag='FunctionMessageChunk')], typing.Annotated[langchain_core.messages.tool.ToolMessageChunk, Tag(tag='ToolMessageChunk')]], FieldInfo(annotation=NoneType, required=True, discriminator=Discriminator(discriminator=<function _get_type at 0x000001F4BABADE40>, custom_error_type=None, custom_error_message=None, custom_error_context=None))]]}, partial_variables={}, messages=[SystemMessagePromptTemplate(prompt=PromptTemplate(input_variables=[], input_types={}, partial_variables={}, template='Given a chat history and the latest user question which might reference context in the chat history, formulate a standalone question which can be understood without the chat history. Do NOT answer the question, just reformulate it if needed and otherwise return it as is.'), additional_kwargs={}), MessagesPlaceholder(variable_name='chat_history'), HumanMessagePromptTemplate(prompt=PromptTemplate(input_variables=['input'], input_types={}, partial_variables={}, template='{input}'), additional_kwargs={})])\n",
       "| ChatGroq(client=<groq.resources.chat.completions.Completions object at 0x000001F4C6CFCD10>, async_client=<groq.resources.chat.completions.AsyncCompletions object at 0x000001F4C6E31290>, model_name='Llama3-8b-8192', model_kwargs={}, groq_api_key=SecretStr('**********'))\n",
       "| StrOutputParser()\n",
       "| VectorStoreRetriever(tags=['Chroma', 'HuggingFaceEmbeddings'], vectorstore=<langchain_chroma.vectorstores.Chroma object at 0x000001F4E317FE90>, search_kwargs={})), kwargs={}, config={'run_name': 'chat_retriever_chain'}, config_factories=[])"
      ]
     },
     "execution_count": 17,
     "metadata": {},
     "output_type": "execute_result"
    }
   ],
   "source": [
    "history_aware_retriver = create_history_aware_retriever(llm, retriver, contextualize_q_prompt)\n",
    "history_aware_retriver"
   ]
  },
  {
   "cell_type": "code",
   "execution_count": 18,
   "id": "5b6711e9",
   "metadata": {},
   "outputs": [
    {
     "data": {
      "text/plain": [
       "ChatPromptTemplate(input_variables=['chat_history', 'context', 'input'], input_types={'chat_history': list[typing.Annotated[typing.Union[typing.Annotated[langchain_core.messages.ai.AIMessage, Tag(tag='ai')], typing.Annotated[langchain_core.messages.human.HumanMessage, Tag(tag='human')], typing.Annotated[langchain_core.messages.chat.ChatMessage, Tag(tag='chat')], typing.Annotated[langchain_core.messages.system.SystemMessage, Tag(tag='system')], typing.Annotated[langchain_core.messages.function.FunctionMessage, Tag(tag='function')], typing.Annotated[langchain_core.messages.tool.ToolMessage, Tag(tag='tool')], typing.Annotated[langchain_core.messages.ai.AIMessageChunk, Tag(tag='AIMessageChunk')], typing.Annotated[langchain_core.messages.human.HumanMessageChunk, Tag(tag='HumanMessageChunk')], typing.Annotated[langchain_core.messages.chat.ChatMessageChunk, Tag(tag='ChatMessageChunk')], typing.Annotated[langchain_core.messages.system.SystemMessageChunk, Tag(tag='SystemMessageChunk')], typing.Annotated[langchain_core.messages.function.FunctionMessageChunk, Tag(tag='FunctionMessageChunk')], typing.Annotated[langchain_core.messages.tool.ToolMessageChunk, Tag(tag='ToolMessageChunk')]], FieldInfo(annotation=NoneType, required=True, discriminator=Discriminator(discriminator=<function _get_type at 0x000001F4BABADE40>, custom_error_type=None, custom_error_message=None, custom_error_context=None))]]}, partial_variables={}, messages=[SystemMessagePromptTemplate(prompt=PromptTemplate(input_variables=['context'], input_types={}, partial_variables={}, template=\"You are an assistant for question-answering tasks. Use the following pieces of retrieved context to answer the question. If you don't know the answer, say that you don't know. Use three sentences maximum and keep the answer concise.\\n\\n{context}\"), additional_kwargs={}), MessagesPlaceholder(variable_name='chat_history'), HumanMessagePromptTemplate(prompt=PromptTemplate(input_variables=['input'], input_types={}, partial_variables={}, template='{input}'), additional_kwargs={})])"
      ]
     },
     "execution_count": 18,
     "metadata": {},
     "output_type": "execute_result"
    }
   ],
   "source": [
    "system_prompt = (\n",
    "    \"You are an assistant for question-answering tasks. \"\n",
    "    \"Use the following pieces of retrieved context to answer \"\n",
    "    \"the question. If you don't know the answer, say that you \"\n",
    "    \"don't know. Use three sentences maximum and keep the \"\n",
    "    \"answer concise.\"\n",
    "    \"\\n\\n\"\n",
    "    \"{context}\"\n",
    ")\n",
    "\n",
    "qa_prompt = ChatPromptTemplate.from_messages(\n",
    "    [\n",
    "        ('system', system_prompt),\n",
    "        MessagesPlaceholder(\"chat_history\"),\n",
    "        (\"human\", \"{input}\"),\n",
    "    ]\n",
    ")\n",
    "\n",
    "qa_prompt"
   ]
  },
  {
   "cell_type": "code",
   "execution_count": 19,
   "id": "8bd07fb0",
   "metadata": {},
   "outputs": [],
   "source": [
    "chain = create_stuff_documents_chain(llm, qa_prompt)\n",
    "retriver_rag_chain = create_retrieval_chain(history_aware_retriver, chain)"
   ]
  },
  {
   "cell_type": "code",
   "execution_count": 23,
   "id": "e41b21ff",
   "metadata": {},
   "outputs": [],
   "source": [
    "from langchain_community.chat_message_histories import ChatMessageHistory\n",
    "from langchain_core.chat_history import BaseChatMessageHistory\n",
    "from langchain_core.runnables.history import RunnableWithMessageHistory\n",
    "\n",
    "store = {}\n",
    "def get_session_history(session_id:str) -> BaseChatMessageHistory:\n",
    "    if session_id not in store:\n",
    "        store[session_id] = ChatMessageHistory()\n",
    "    return store[session_id]\n",
    "\n",
    "\n",
    "with_message_history = RunnableWithMessageHistory(\n",
    "        retriver_rag_chain, \n",
    "        get_session_history,\n",
    "        input_messages_key=\"input\",\n",
    "        history_messages_key=\"chat_history\",\n",
    "        output_messages_key=\"answer\",\n",
    "    )\n",
    "config = {\"configurable\": {\"session_id\": \"chat1\"}}"
   ]
  },
  {
   "cell_type": "code",
   "execution_count": 24,
   "id": "1e039f7b",
   "metadata": {},
   "outputs": [
    {
     "data": {
      "text/plain": [
       "{'input': 'What is machine learning',\n",
       " 'chat_history': [],\n",
       " 'context': [Document(id='121dfd81-f440-4cd3-8207-f7b61e72199a', metadata={'source': '../1.3-textsplitter/machine-learning.txt'}, page_content='How AI Works\\nModern AI largely relies on a subset of computer science called machine learning (ML), where systems learn patterns from data and improve over time without being explicitly programmed. For instance, a machine learning model trained on thousands of cat images can learn to recognize cats in new images with surprising accuracy.'),\n",
       "  Document(id='fa628a49-3a1d-42d5-b8c8-4cef28373a26', metadata={'source': '../1.3-textsplitter/machine-learning.txt'}, page_content='1. Healthcare\\nAI is revolutionizing healthcare with applications ranging from early diagnosis to personalized treatment plans. Machine learning models can analyze medical images to detect diseases like cancer earlier and with greater accuracy than traditional methods. AI-powered chatbots and virtual assistants are also helping patients manage their health.'),\n",
       "  Document(id='620526ba-6777-4853-b357-56734eeefb4e', metadata={'source': '../1.3-textsplitter/machine-learning.txt'}, page_content='Another important subset of AI is deep learning, which uses artificial neural networks inspired by the human brain. Deep learning has enabled significant breakthroughs in areas such as speech recognition, computer vision, and natural language processing.\\n\\nKey components that power AI systems include:\\n\\nData: AI needs large volumes of data to learn patterns.\\n\\nAlgorithms: These are sets of rules or models that process data and make predictions or decisions.'),\n",
       "  Document(id='6aa518c9-1267-46df-8b99-1a5481a685ff', metadata={'source': '../1.3-textsplitter/machine-learning.txt'}, page_content=\"What is Artificial Intelligence?\\nAt its core, Artificial Intelligence refers to machines or software that mimic human intelligence. This includes the ability to learn from data, reason through problems, understand language, perceive their environment, and even exhibit creativity. AI doesn't refer to one single technology but rather a collection of technologies and methods that enable computers to perform tasks that typically require human intelligence.\")],\n",
       " 'answer': 'Machine learning is a subset of computer science that enables systems to learn patterns from data and improve over time without being explicitly programmed.'}"
      ]
     },
     "execution_count": 24,
     "metadata": {},
     "output_type": "execute_result"
    }
   ],
   "source": [
    "response = with_message_history.invoke(\n",
    "    {\"input\": \"What is machine learning\"},\n",
    "    config=config\n",
    ")\n",
    "response\n"
   ]
  },
  {
   "cell_type": "code",
   "execution_count": null,
   "id": "822e5c29",
   "metadata": {},
   "outputs": [],
   "source": []
  },
  {
   "cell_type": "code",
   "execution_count": null,
   "id": "93e1bd99",
   "metadata": {},
   "outputs": [],
   "source": [
    "# from langchain_core.messages import AIMessage, HumanMessage\n",
    "\n",
    "# chat_history1 = []\n",
    "\n",
    "# questions = \"what is machine learning\"\n",
    "\n",
    "# response1 = retriver_rag_chain.invoke({\"input\": questions, \"chat_history\": chat_history1})\n",
    "\n",
    "# chat_history1.extend(\n",
    "#     [\n",
    "#         HumanMessage(content=questions),\n",
    "#         AIMessage(content=response1['answer'])\n",
    "#     ]\n",
    "# )\n",
    "# question2 = \"Tell me about it\"\n",
    "# response2 = retriver_rag_chain.invoke({\"input\": question2, \"chat_history\": chat_history1})\n",
    "# response2['answer']"
   ]
  }
 ],
 "metadata": {
  "kernelspec": {
   "display_name": "Python 3",
   "language": "python",
   "name": "python3"
  },
  "language_info": {
   "codemirror_mode": {
    "name": "ipython",
    "version": 3
   },
   "file_extension": ".py",
   "mimetype": "text/x-python",
   "name": "python",
   "nbconvert_exporter": "python",
   "pygments_lexer": "ipython3",
   "version": "3.11.0"
  }
 },
 "nbformat": 4,
 "nbformat_minor": 5
}
