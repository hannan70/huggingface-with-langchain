{
 "cells": [
  {
   "cell_type": "code",
   "execution_count": 7,
   "id": "495cc623",
   "metadata": {},
   "outputs": [
    {
     "name": "stdout",
     "output_type": "stream",
     "text": [
      "\n",
      "\n",
      "\u001b[1m> Entering new AgentExecutor chain...\u001b[0m\n",
      "\u001b[32;1m\u001b[1;3m\n",
      "Invoking: `machine-learning-search` with `{'query': 'What is machine learning?'}`\n",
      "\n",
      "\n",
      "\u001b[0m\u001b[36;1m\u001b[1;3m6 min read\n",
      "What is Machine Learning?Machine learning is a branch of artificial intelligence that enables algorithms to uncover hidden patterns within datasets. It allows them to predict new, similar data without explicit programming for each task. Machine learning finds applications in diverse fields such as image and speech recogniti\n",
      "\n",
      "from data examples to generate accurate outcomes, closely intertwined with data mining and data science. Need for Machine LearningMachine learning is important because it allows computers to learn from data and improve their performance on specific tasks without being explicitly programmed. This ability to learn from data and adapt to new situations makes machine learning particularly useful for tasks that involve large amounts of data, complex decision-making, and dynamic environments.Here are\n",
      "\n",
      "applications including natural language processing, computer vision, robotics, and more.Dependent on the quality and diversity of data. Can perform poorly if data is not representative.Dependent on the intelligence and foresight of developers. Limited to known scenarios.Combines the strengths of both ML and traditional programming to tackle complex, multi-faceted problems.How machine learning algorithms work?A machine learning algorithm works by learning patterns and relationships from data to\n",
      "\n",
      "information from datasets with minimal variation.Observations Per Group: It is recommended to have at least 20 observations per group to ensure effective learning.In conclusion, understanding machine learning reveals a world where computers process and learn from data to make decisions and predictions. This field merges computer science and statistics, allowing systems to enhance performance over time without explicit programming. As machine learning advances, its applications promise to\u001b[0m\u001b[32;1m\u001b[1;3mAccording to the machine learning search result, machine learning is a branch of artificial intelligence that enables algorithms to uncover hidden patterns within datasets, allowing them to predict new, similar data without explicit programming. It finds applications in various fields, including natural language processing, computer vision, and robotics.\u001b[0m\n",
      "\n",
      "\u001b[1m> Finished chain.\u001b[0m\n",
      "{'input': 'What is machine learning?', 'output': 'According to the machine learning search result, machine learning is a branch of artificial intelligence that enables algorithms to uncover hidden patterns within datasets, allowing them to predict new, similar data without explicit programming. It finds applications in various fields, including natural language processing, computer vision, and robotics.'}\n"
     ]
    }
   ],
   "source": [
    "import os\n",
    "from dotenv import load_dotenv\n",
    "load_dotenv()\n",
    "\n",
    "# Load GROQ API key\n",
    "groq_api_key = os.getenv('GROQ_API_KEY')\n",
    "\n",
    "# Import necessary modules\n",
    "from langchain.agents import create_tool_calling_agent, AgentExecutor\n",
    "from langchain_groq import ChatGroq\n",
    "from langchain.tools.retriever import create_retriever_tool\n",
    "from langchain_community.document_loaders import WebBaseLoader\n",
    "from langchain_community.vectorstores import FAISS\n",
    "from langchain_huggingface import HuggingFaceEmbeddings\n",
    "from langchain_text_splitters import RecursiveCharacterTextSplitter\n",
    "from langchain_core.prompts import ChatPromptTemplate\n",
    "from langchain_core.prompts.chat import MessagesPlaceholder\n",
    "\n",
    "# Load LLM\n",
    "llm = ChatGroq(model=\"llama3-8b-8192\", api_key=groq_api_key)\n",
    "\n",
    "# Load and split documents\n",
    "loader = WebBaseLoader(\"https://www.geeksforgeeks.org/machine-learning/ml-machine-learning/\")\n",
    "docs = loader.load()\n",
    "\n",
    "text_splitter = RecursiveCharacterTextSplitter(chunk_size=500, chunk_overlap=200)\n",
    "documents = text_splitter.split_documents(docs)\n",
    "\n",
    "# Embedding and vectorstore\n",
    "embedding = HuggingFaceEmbeddings(model_name=\"all-MiniLM-L6-v2\")\n",
    "vectorstore = FAISS.from_documents(documents, embedding)\n",
    "retriever = vectorstore.as_retriever()\n",
    "\n",
    "# Create retriever tool\n",
    "retriever_tool = create_retriever_tool(\n",
    "    retriever=retriever,\n",
    "    name=\"machine-learning-search\",\n",
    "    description=\"Search for information about machine learning\"\n",
    ")\n",
    "prompt = ChatPromptTemplate.from_messages([\n",
    "    (\"system\", \"You are a helpful AI assistant.\"),\n",
    "    (\"user\", \"{input}\"),\n",
    "    MessagesPlaceholder(variable_name=\"agent_scratchpad\")\n",
    "])\n",
    "\n",
    "tools = [retriever_tool]\n",
    "\n",
    "# Initialize agent\n",
    "agent = create_tool_calling_agent(\n",
    "    tools=tools,\n",
    "    llm=llm,\n",
    "    prompt=prompt\n",
    ")\n",
    "\n",
    "\n",
    "# Executor wrapper\n",
    "agent_executor = AgentExecutor(agent=agent, tools=tools, verbose=True)\n",
    "\n",
    "# Run\n",
    "response = agent_executor.invoke({\"input\": \"What is machine learning?\"})\n",
    "print(response)"
   ]
  },
  {
   "cell_type": "code",
   "execution_count": null,
   "id": "3ea564f6",
   "metadata": {},
   "outputs": [],
   "source": []
  }
 ],
 "metadata": {
  "kernelspec": {
   "display_name": "Python 3",
   "language": "python",
   "name": "python3"
  },
  "language_info": {
   "codemirror_mode": {
    "name": "ipython",
    "version": 3
   },
   "file_extension": ".py",
   "mimetype": "text/x-python",
   "name": "python",
   "nbconvert_exporter": "python",
   "pygments_lexer": "ipython3",
   "version": "3.11.0"
  }
 },
 "nbformat": 4,
 "nbformat_minor": 5
}
