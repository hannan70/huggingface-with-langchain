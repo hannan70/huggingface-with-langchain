{
 "cells": [
  {
   "cell_type": "code",
   "execution_count": 2,
   "id": "b95c49a0",
   "metadata": {},
   "outputs": [
    {
     "data": {
      "text/plain": [
       "True"
      ]
     },
     "execution_count": 2,
     "metadata": {},
     "output_type": "execute_result"
    }
   ],
   "source": [
    "import os\n",
    "from dotenv import load_dotenv\n",
    "load_dotenv()"
   ]
  },
  {
   "cell_type": "code",
   "execution_count": 3,
   "id": "8fcdae32",
   "metadata": {},
   "outputs": [],
   "source": [
    "os.environ['HUGGINGFACE_TOKEN'] = os.getenv('HUGGINGFACE_TOKEN')"
   ]
  },
  {
   "cell_type": "code",
   "execution_count": 4,
   "id": "1efcc842",
   "metadata": {},
   "outputs": [],
   "source": [
    "from langchain_huggingface import HuggingFaceEmbeddings"
   ]
  },
  {
   "cell_type": "code",
   "execution_count": 5,
   "id": "a897cb09",
   "metadata": {},
   "outputs": [
    {
     "name": "stderr",
     "output_type": "stream",
     "text": [
      "d:\\machine-learning\\huggingface-langchain\\langchain-with-krish\\venv\\Lib\\site-packages\\tqdm\\auto.py:21: TqdmWarning: IProgress not found. Please update jupyter and ipywidgets. See https://ipywidgets.readthedocs.io/en/stable/user_install.html\n",
      "  from .autonotebook import tqdm as notebook_tqdm\n",
      "d:\\machine-learning\\huggingface-langchain\\langchain-with-krish\\venv\\Lib\\site-packages\\huggingface_hub\\file_download.py:143: UserWarning: `huggingface_hub` cache-system uses symlinks by default to efficiently store duplicated files but your machine does not support them in C:\\Users\\HANNAN\\.cache\\huggingface\\hub\\models--sentence-transformers--all-MiniLM-L6-v2. Caching files will still work but in a degraded version that might require more space on your disk. This warning can be disabled by setting the `HF_HUB_DISABLE_SYMLINKS_WARNING` environment variable. For more details, see https://huggingface.co/docs/huggingface_hub/how-to-cache#limitations.\n",
      "To support symlinks on Windows, you either need to activate Developer Mode or to run Python as an administrator. In order to activate developer mode, see this article: https://docs.microsoft.com/en-us/windows/apps/get-started/enable-your-device-for-development\n",
      "  warnings.warn(message)\n",
      "Xet Storage is enabled for this repo, but the 'hf_xet' package is not installed. Falling back to regular HTTP download. For better performance, install the package with: `pip install huggingface_hub[hf_xet]` or `pip install hf_xet`\n"
     ]
    }
   ],
   "source": [
    "embedding = HuggingFaceEmbeddings(model=\"all-MiniLM-L6-v2\")"
   ]
  },
  {
   "cell_type": "code",
   "execution_count": 6,
   "id": "e42a7d3c",
   "metadata": {},
   "outputs": [],
   "source": [
    "text = \"Lorem Ipsum is simply dummy text of the printing and typesetting industry. Lorem Ipsum has been the industry's standard dummy text ever since the 1500s\""
   ]
  },
  {
   "cell_type": "code",
   "execution_count": 7,
   "id": "38aacef9",
   "metadata": {},
   "outputs": [
    {
     "data": {
      "text/plain": [
       "[0.054767969995737076,\n",
       " -0.0023755726870149374,\n",
       " 0.03518056869506836,\n",
       " -0.021966293454170227,\n",
       " -0.0055615948513150215,\n",
       " 0.04422859475016594,\n",
       " 0.0599462129175663,\n",
       " 0.01866561733186245,\n",
       " -0.015071370638906956,\n",
       " 0.010934853926301003,\n",
       " 0.09390337765216827,\n",
       " 0.06103352829813957,\n",
       " -0.0012859287671744823,\n",
       " -0.08808569610118866,\n",
       " -0.0362674780189991,\n",
       " -0.012196228839457035,\n",
       " 0.07285603880882263,\n",
       " -0.046226248145103455,\n",
       " 0.07721590250730515,\n",
       " -0.06181304156780243,\n",
       " 0.009436095133423805,\n",
       " 0.06980034708976746,\n",
       " 0.04540790244936943,\n",
       " -0.00684353755787015,\n",
       " -0.005252021364867687,\n",
       " 0.09801838546991348,\n",
       " -0.06850487738847733,\n",
       " 0.028310133144259453,\n",
       " 0.10142587870359421,\n",
       " -0.08023163676261902,\n",
       " -0.04994238540530205,\n",
       " 0.07461267709732056,\n",
       " 0.1019417941570282,\n",
       " -0.007688743527978659,\n",
       " -0.004584288224577904,\n",
       " 0.0026557231321930885,\n",
       " -6.363131251418963e-05,\n",
       " -0.005447732750326395,\n",
       " -0.03677614778280258,\n",
       " -0.03455669805407524,\n",
       " 0.0959698036313057,\n",
       " -0.08548922836780548,\n",
       " -0.04759650677442551,\n",
       " -0.02936512976884842,\n",
       " 0.0010999750811606646,\n",
       " 0.0006537300068885088,\n",
       " -0.05439078062772751,\n",
       " 0.049546852707862854,\n",
       " -0.004068145528435707,\n",
       " 0.05346360430121422,\n",
       " -0.01689491979777813,\n",
       " -0.006594793405383825,\n",
       " 0.0027808034792542458,\n",
       " 0.04486629739403725,\n",
       " 0.082508385181427,\n",
       " -0.03452245891094208,\n",
       " 0.06147579848766327,\n",
       " -0.012933257967233658,\n",
       " -0.04055924713611603,\n",
       " -0.03459104150533676,\n",
       " -0.0779481828212738,\n",
       " 0.011198037303984165,\n",
       " -0.042614489793777466,\n",
       " 0.03424188867211342,\n",
       " 0.05673752725124359,\n",
       " -0.03607485443353653,\n",
       " 0.06414943933486938,\n",
       " 0.10862624645233154,\n",
       " -0.07096388190984726,\n",
       " 0.012013262137770653,\n",
       " -0.0045995768159627914,\n",
       " 0.013678042218089104,\n",
       " -0.07828254997730255,\n",
       " 0.11718260496854782,\n",
       " -0.1018218845129013,\n",
       " 0.04205523803830147,\n",
       " -0.015910105779767036,\n",
       " -0.1066192016005516,\n",
       " 0.023850908502936363,\n",
       " 0.010919813066720963,\n",
       " -0.07081931829452515,\n",
       " 0.1033167690038681,\n",
       " 0.07547486573457718,\n",
       " 0.014882235787808895,\n",
       " -0.07609368115663528,\n",
       " -0.0032005091197788715,\n",
       " -0.012082264758646488,\n",
       " -0.015382524579763412,\n",
       " 0.06349851191043854,\n",
       " -0.03697660192847252,\n",
       " -0.007753434590995312,\n",
       " -0.04948902502655983,\n",
       " 0.038652271032333374,\n",
       " 0.025802167132496834,\n",
       " -0.05353356525301933,\n",
       " -0.013096503913402557,\n",
       " 0.019212771207094193,\n",
       " 0.0010849497048184276,\n",
       " 0.038514457643032074,\n",
       " 0.01266520470380783,\n",
       " 0.02614583633840084,\n",
       " -0.014930175617337227,\n",
       " -0.018496863543987274,\n",
       " -0.08064956218004227,\n",
       " -0.08474893867969513,\n",
       " -0.031791526824235916,\n",
       " -0.005467629060149193,\n",
       " -0.0514615960419178,\n",
       " 0.0464034229516983,\n",
       " 0.031183181330561638,\n",
       " -0.02293391153216362,\n",
       " -0.07958317548036575,\n",
       " -0.09354252368211746,\n",
       " -0.03571994602680206,\n",
       " -0.00894326251000166,\n",
       " -0.11746031045913696,\n",
       " 0.044545967131853104,\n",
       " -0.05288471654057503,\n",
       " 0.07625626027584076,\n",
       " -0.04176477715373039,\n",
       " -0.03282113000750542,\n",
       " -0.011283370666205883,\n",
       " 0.001611817628145218,\n",
       " -0.002348010428249836,\n",
       " -0.060419511049985886,\n",
       " -0.054253071546554565,\n",
       " 0.03475232794880867,\n",
       " 2.342270757994297e-34,\n",
       " -0.020904699340462685,\n",
       " 0.03908063471317291,\n",
       " -0.014093967154622078,\n",
       " 0.07262058556079865,\n",
       " 0.06146477907896042,\n",
       " 0.035489317029714584,\n",
       " 0.01535741426050663,\n",
       " 0.004031998571008444,\n",
       " -0.0449400469660759,\n",
       " -0.017636481672525406,\n",
       " -0.04126562923192978,\n",
       " -0.06602746993303299,\n",
       " -0.03501400724053383,\n",
       " 0.05148189142346382,\n",
       " 0.027637656778097153,\n",
       " -0.04201022908091545,\n",
       " 0.006774557288736105,\n",
       " 0.01791616901755333,\n",
       " 0.04477386176586151,\n",
       " -0.008970411494374275,\n",
       " 0.04364677891135216,\n",
       " 0.05902346968650818,\n",
       " 0.11556640267372131,\n",
       " -0.037379104644060135,\n",
       " 0.05488140136003494,\n",
       " 0.0347961001098156,\n",
       " 0.056639425456523895,\n",
       " 0.017255952581763268,\n",
       " 0.047038283199071884,\n",
       " 0.0261201411485672,\n",
       " 0.08158466964960098,\n",
       " 0.06933494657278061,\n",
       " 0.047920357435941696,\n",
       " -0.05261192098259926,\n",
       " 0.02061428315937519,\n",
       " 0.010933906771242619,\n",
       " 0.008003391325473785,\n",
       " -0.10357930511236191,\n",
       " -0.009862625040113926,\n",
       " 0.013965606689453125,\n",
       " -0.08368124067783356,\n",
       " -0.006243884563446045,\n",
       " 0.03855264186859131,\n",
       " -0.08790785074234009,\n",
       " -0.04764324426651001,\n",
       " 0.05627169460058212,\n",
       " -0.03455619141459465,\n",
       " 0.022049421444535255,\n",
       " -0.011306832544505596,\n",
       " 0.0076062316074967384,\n",
       " -0.02374069206416607,\n",
       " 0.048680610954761505,\n",
       " 0.02438315749168396,\n",
       " 0.02098715864121914,\n",
       " 0.04405525326728821,\n",
       " 0.0064936415292322636,\n",
       " -0.0073738559149205685,\n",
       " -0.09703702479600906,\n",
       " 0.020474113523960114,\n",
       " 0.011795350350439548,\n",
       " -0.04667860269546509,\n",
       " 0.0955415889620781,\n",
       " 0.04544420167803764,\n",
       " 0.02839340828359127,\n",
       " 0.00018614783766679466,\n",
       " 0.10410124808549881,\n",
       " -0.00828767754137516,\n",
       " 0.01083585899323225,\n",
       " -0.0003112787671852857,\n",
       " -0.04490603879094124,\n",
       " 0.03218679130077362,\n",
       " -0.04291472211480141,\n",
       " -0.08514582365751266,\n",
       " 0.12100839614868164,\n",
       " 0.0005994863458909094,\n",
       " 0.04414108395576477,\n",
       " -0.05220729112625122,\n",
       " -0.036239661276340485,\n",
       " -0.03028833121061325,\n",
       " 0.012791291810572147,\n",
       " -0.035268258303403854,\n",
       " 0.013290834613144398,\n",
       " 0.021385150030255318,\n",
       " -0.04940066486597061,\n",
       " -0.0219794400036335,\n",
       " -0.04101762920618057,\n",
       " 0.035991370677948,\n",
       " 0.004612503107637167,\n",
       " 0.031732071191072464,\n",
       " -0.0008282902417704463,\n",
       " 0.08276869356632233,\n",
       " 0.005305236205458641,\n",
       " -0.019141187891364098,\n",
       " 0.05978873372077942,\n",
       " -0.06643509864807129,\n",
       " -1.6103190784120598e-33,\n",
       " -0.08155472576618195,\n",
       " -0.0030676452443003654,\n",
       " -0.08103795349597931,\n",
       " 0.06819473206996918,\n",
       " -0.001225011539645493,\n",
       " -0.06176728755235672,\n",
       " 0.0673074871301651,\n",
       " 0.12536002695560455,\n",
       " 0.016149509698152542,\n",
       " 0.019791606813669205,\n",
       " 0.0341847725212574,\n",
       " -0.005207947455346584,\n",
       " -0.03576015308499336,\n",
       " 0.007928886450827122,\n",
       " -0.00966215692460537,\n",
       " -0.026073260232806206,\n",
       " -0.009615637362003326,\n",
       " -0.0016592952888458967,\n",
       " -0.019094863906502724,\n",
       " 0.059716369956731796,\n",
       " 0.03672253340482712,\n",
       " -0.1054341271519661,\n",
       " -0.0588952861726284,\n",
       " -0.03120831772685051,\n",
       " 0.011047834530472755,\n",
       " 0.04385288059711456,\n",
       " 0.05814352631568909,\n",
       " 0.0074023474007844925,\n",
       " -0.09077690541744232,\n",
       " 0.018798373639583588,\n",
       " 0.02687564119696617,\n",
       " 0.005759097635746002,\n",
       " -0.003502295585349202,\n",
       " -0.023400964215397835,\n",
       " -0.07125537842512131,\n",
       " -0.02567521668970585,\n",
       " 0.041550323367118835,\n",
       " -0.011585630476474762,\n",
       " 0.008769543841481209,\n",
       " -0.006141069810837507,\n",
       " 0.06350772082805634,\n",
       " 0.010859723202884197,\n",
       " 0.03772568330168724,\n",
       " 0.025047514587640762,\n",
       " -0.052789025008678436,\n",
       " -0.10329823940992355,\n",
       " -0.08606592565774918,\n",
       " -0.06097035855054855,\n",
       " 0.06757663190364838,\n",
       " -0.03782226890325546,\n",
       " -0.026156770065426826,\n",
       " -0.007737994194030762,\n",
       " 0.08807748556137085,\n",
       " 0.02565104328095913,\n",
       " -0.06055769324302673,\n",
       " -0.08191192150115967,\n",
       " -0.0615425780415535,\n",
       " -0.0019429158419370651,\n",
       " -0.06960771977901459,\n",
       " 0.016103796660900116,\n",
       " 0.02291170135140419,\n",
       " -0.0551467128098011,\n",
       " 0.01881624385714531,\n",
       " 0.0047332425601780415,\n",
       " 0.061580415815114975,\n",
       " -0.060374967753887177,\n",
       " 0.05510803684592247,\n",
       " -0.0041316719725728035,\n",
       " -0.1261700987815857,\n",
       " -0.047289252281188965,\n",
       " 0.11049602925777435,\n",
       " 0.0794181302189827,\n",
       " -0.034258391708135605,\n",
       " 0.011921064928174019,\n",
       " -0.024669110774993896,\n",
       " 0.031332094222307205,\n",
       " -0.00232440372928977,\n",
       " -0.014234783127903938,\n",
       " -0.09288440644741058,\n",
       " 0.021411634981632233,\n",
       " 0.10723742097616196,\n",
       " -0.0026336826849728823,\n",
       " -0.0569586344063282,\n",
       " 0.034049589186906815,\n",
       " 0.04173559695482254,\n",
       " 0.034451305866241455,\n",
       " -0.03389541804790497,\n",
       " 0.04901795834302902,\n",
       " -0.07040288299322128,\n",
       " 0.0245024673640728,\n",
       " -0.04271363839507103,\n",
       " 0.012344518676400185,\n",
       " -0.06727539747953415,\n",
       " 0.10761930048465729,\n",
       " 0.0193148422986269,\n",
       " -2.8328809520417053e-08,\n",
       " -0.11724063009023666,\n",
       " -0.08076062053442001,\n",
       " -0.018516860902309418,\n",
       " -0.08359266072511673,\n",
       " -0.00484876474365592,\n",
       " -0.04238708317279816,\n",
       " 0.028063824400305748,\n",
       " -0.09602237492799759,\n",
       " 0.03569122031331062,\n",
       " -0.041884828358888626,\n",
       " 0.04061790928244591,\n",
       " 0.05067267641425133,\n",
       " -0.04866113141179085,\n",
       " -0.03682062774896622,\n",
       " 0.06341451406478882,\n",
       " 0.006965704262256622,\n",
       " -0.004341682884842157,\n",
       " 0.0040833004750311375,\n",
       " -0.022620880976319313,\n",
       " -0.06289874762296677,\n",
       " 0.07402703166007996,\n",
       " 0.05522046983242035,\n",
       " 0.0023267650976777077,\n",
       " -0.06466468423604965,\n",
       " -0.012941337190568447,\n",
       " 0.02967124991118908,\n",
       " -0.006699969060719013,\n",
       " 0.007963303476572037,\n",
       " -0.0402926504611969,\n",
       " -0.01904045231640339,\n",
       " 0.01659991405904293,\n",
       " 0.06516371667385101,\n",
       " 0.007634277921169996,\n",
       " -0.01124375220388174,\n",
       " 0.008365919813513756,\n",
       " 0.08949343115091324,\n",
       " 0.030960053205490112,\n",
       " 0.005435325670987368,\n",
       " -0.0023546451702713966,\n",
       " -0.051105011254549026,\n",
       " -0.01792963407933712,\n",
       " -0.07441671192646027,\n",
       " 0.009580693207681179,\n",
       " -0.014397116377949715,\n",
       " 0.08587130904197693,\n",
       " 0.027961671352386475,\n",
       " -0.02606317214667797,\n",
       " -0.03385892137885094,\n",
       " -0.01625455915927887,\n",
       " -0.10691871494054794,\n",
       " 0.05532374605536461,\n",
       " 0.0602731816470623,\n",
       " 0.06856825947761536,\n",
       " 0.03457680717110634,\n",
       " -0.014085751958191395,\n",
       " -0.0659998282790184,\n",
       " -0.02725798822939396,\n",
       " 0.03400754928588867,\n",
       " -0.0135626420378685,\n",
       " -0.017017899081110954,\n",
       " 0.04960492625832558,\n",
       " -0.1348528265953064,\n",
       " 0.11187437176704407,\n",
       " 0.025679005309939384]"
      ]
     },
     "execution_count": 7,
     "metadata": {},
     "output_type": "execute_result"
    }
   ],
   "source": [
    "query_result = embedding.embed_query(text)\n",
    "query_result"
   ]
  },
  {
   "cell_type": "code",
   "execution_count": 8,
   "id": "dd89c46d",
   "metadata": {},
   "outputs": [
    {
     "data": {
      "text/plain": [
       "384"
      ]
     },
     "execution_count": 8,
     "metadata": {},
     "output_type": "execute_result"
    }
   ],
   "source": [
    "len(query_result)"
   ]
  },
  {
   "cell_type": "code",
   "execution_count": 14,
   "id": "6eacd0d7",
   "metadata": {},
   "outputs": [],
   "source": [
    "from langchain_community.document_loaders import TextLoader\n",
    "from langchain_text_splitters import RecursiveCharacterTextSplitter"
   ]
  },
  {
   "cell_type": "code",
   "execution_count": null,
   "id": "8170e65c",
   "metadata": {},
   "outputs": [],
   "source": [
    "# load documents\n",
    "loader = TextLoader('../1.3-textsplitter/speech.txt')\n",
    "docs = loader.load()"
   ]
  },
  {
   "cell_type": "code",
   "execution_count": 13,
   "id": "80a92915",
   "metadata": {},
   "outputs": [
    {
     "data": {
      "text/plain": [
       "[Document(metadata={'source': '../1.3-textsplitter/speech.txt'}, page_content='Machine Learning and Generative AI: Shaping the Future of Intelligence\\nThe last decade has witnessed an unprecedented surge in the advancement of artificial intelligence (AI), driven largely by the breakthroughs in machine learning (ML) and the explosive growth of generative AI. Together, these technologies are not just changing how machines process information—they\\'re transforming entire industries, reshaping creative processes, and redefining the boundaries between human and machine capabilities.\\n\\nIn this blog, we’ll explore what machine learning is, how generative AI fits into the larger AI ecosystem, their real-world applications, and what the future holds.\\n\\nWhat is Machine Learning?\\nMachine learning is a subset of artificial intelligence that enables machines to learn from data and improve their performance without being explicitly programmed. Instead of following hard-coded instructions, ML algorithms find patterns in data and make predictions or decisions based on it.\\n\\nThere are several key types of machine learning:\\n\\n1. Supervised Learning\\nIn supervised learning, the algorithm is trained on labeled data, meaning the input comes with corresponding correct outputs. It learns to map inputs to outputs and is commonly used in applications like spam detection, image classification, and medical diagnosis.\\n\\n2. Unsupervised Learning\\nHere, the data has no labels. The model identifies hidden patterns or groupings in the data. This is useful for customer segmentation, anomaly detection, and dimensionality reduction.\\n\\n3. Reinforcement Learning\\nAn agent learns by interacting with an environment, receiving feedback in the form of rewards or penalties. This type is widely used in robotics, gaming (like AlphaGo), and autonomous vehicles.\\n\\nWhat is Generative AI?\\nGenerative AI refers to models that can create new content—such as text, images, music, code, and even video—by learning from large datasets. These models don’t just recognize patterns; they use them to generate original outputs that resemble human-created content.\\n\\nThe most well-known form of generative AI is based on deep learning and transformer architectures, like OpenAI’s GPT (Generative Pre-trained Transformer) models or Google’s Imagen for image generation.\\n\\nKey categories include:\\n\\nText Generation: GPT-4, Claude, and Gemini can write essays, poems, code, and more.\\n\\nImage Generation: DALL·E, Midjourney, and Stable Diffusion can create high-quality images from text prompts.\\n\\nAudio and Music: Tools like Jukebox and Riffusion generate music based on style and genre.\\n\\nVideo Generation: Sora and other emerging models are beginning to generate short videos from text prompts.\\n\\nHow Machine Learning Powers Generative AI\\nGenerative AI models are built on advanced machine learning techniques, especially deep learning. A few core technologies include:\\n\\n1. Neural Networks\\nThese are algorithms inspired by the human brain. Deep neural networks (DNNs) have multiple layers and are capable of learning complex patterns in data.\\n\\n2. Transformers\\nIntroduced by Google in 2017 with the paper \"Attention is All You Need\", transformers revolutionized ML by enabling models to process sequences of data more efficiently. This architecture is the foundation of models like GPT, BERT, and T5.\\n\\n3. Unsupervised Pre-training\\nMost generative models learn from vast amounts of unlabeled data. For instance, GPT learns to predict the next word in a sentence across billions of examples, building a nuanced understanding of language.\\n\\n4. Diffusion Models\\nUsed in image generation, diffusion models learn to reverse a process of adding noise to data. By training on millions of images, they learn how to construct realistic images from random noise.\\n\\nApplications of Machine Learning and Generative AI\\nThe integration of ML and generative AI is already impacting industries in profound ways. Here are some real-world applications:\\n\\n1. Healthcare\\nDiagnostics: ML models analyze X-rays, MRIs, and genomic data with high accuracy.\\n\\nDrug Discovery: Generative AI designs new molecular structures, speeding up drug development.\\n\\nPersonalized Medicine: ML tailors treatment plans based on individual patient data.\\n\\n2. Finance\\nFraud Detection: ML algorithms detect unusual patterns that may indicate fraud.\\n\\nAlgorithmic Trading: AI systems make split-second investment decisions.\\n\\nDocument Processing: Generative models summarize and extract information from financial documents.\\n\\n3. Education\\nTutoring Systems: Chatbots powered by generative AI offer personalized explanations.\\n\\nEssay Scoring and Feedback: AI can provide immediate, consistent writing assessments.\\n\\nContent Creation: Generative tools help educators create lesson plans and quizzes.\\n\\n4. Entertainment and Media\\nMusic and Art: AI collaborates with artists to generate novel compositions and visuals.\\n\\nFilm and Animation: Generative models help design characters, storyboard sequences, and even write scripts.\\n\\nGaming: AI generates dialogue, quests, and even entire game worlds dynamically.\\n\\n5. Business and Marketing\\nContent Creation: AI writes blogs, product descriptions, emails, and ad copy.\\n\\nCustomer Support: AI chatbots answer queries, automate support, and route requests.\\n\\nDesign: AI tools generate brand assets like logos, social media content, and web designs.\\n\\nBenefits of Machine Learning and Generative AI\\n1. Increased Productivity\\nGenerative AI dramatically accelerates tasks that used to take hours or days, such as content creation, coding, and data analysis.\\n\\n2. Scalability\\nML systems can handle massive volumes of data and generate personalized results at scale, something that would be impossible manually.\\n\\n3. Creativity Augmentation\\nRather than replacing creatives, generative AI can act as a co-pilot—enhancing inspiration, offering variations, and exploring ideas faster.\\n\\n4. Accessibility\\nWith AI, complex tasks (like editing videos or writing marketing copy) become accessible to people without technical expertise.\\n\\nChallenges and Ethical Considerations\\nAs powerful as these technologies are, they come with challenges:\\n\\n1. Bias and Fairness\\nML models can learn and amplify biases present in their training data, leading to discriminatory outcomes. For instance, facial recognition systems have shown higher error rates for certain demographics.\\n\\n2. Misinformation\\nGenerative models can be used to create realistic fake content—deepfakes, fake news articles, or fake audio clips—which can spread misinformation.\\n\\n3. Intellectual Property\\nWho owns AI-generated content? The lines between human and machine authorship are increasingly blurred, raising legal and ethical questions.\\n\\n4. Data Privacy\\nLarge models are often trained on publicly available data, which may inadvertently include sensitive information. Ensuring data privacy is a key concern.\\n\\n5. Job Displacement\\nWhile AI creates new opportunities, it may also automate certain jobs, especially in fields like customer service, content creation, and data entry.\\n\\nThe Future of Machine Learning and Generative AI\\nThe future of AI is incredibly promising, and developments in machine learning and generative AI will continue to push boundaries. Here are a few trends to watch:\\n\\n1. Multimodal AI\\nModels that understand and generate across multiple data types (e.g., text, images, video, audio) will become more common. GPT-4 and others are already moving in this direction.\\n\\n2. Smaller, More Efficient Models\\nEfforts like distillation and quantization are making it possible to deploy powerful AI models on mobile devices and embedded systems.\\n\\n3. AI Agents\\nInstead of just chatbots, we\\'re moving toward AI agents that can take actions, browse the web, use tools, and perform complex multi-step tasks.\\n\\n4. Personalized AI\\nWith federated learning and privacy-preserving techniques, future AI systems will adapt to individuals while keeping data secure.\\n\\n5. Ethical AI\\nThere is a growing focus on building ethical, transparent, and accountable AI systems that align with human values and societal goals.\\n\\nConclusion\\nMachine learning and generative AI are more than just buzzwords—they are the engines driving innovation across the globe. Whether it\\'s diagnosing diseases, creating art, automating businesses, or writing poetry, these technologies are becoming integral to our digital lives.\\n\\nWhile we must approach their deployment with caution and responsibility, the potential of machine learning and generative AI is immense. As these systems become more accessible and integrated, they will empower individuals, amplify creativity, and redefine what\\'s possible in the age of intelligent machines.\\n\\nThe future isn’t just AI-powered—it’s AI-augmented.')]"
      ]
     },
     "execution_count": 13,
     "metadata": {},
     "output_type": "execute_result"
    }
   ],
   "source": [
    "docs"
   ]
  },
  {
   "cell_type": "code",
   "execution_count": null,
   "id": "24745184",
   "metadata": {},
   "outputs": [],
   "source": [
    "# split text\n",
    "text_splitters = RecursiveCharacterTextSplitter(chunk_size=500, chunk_overlap=50)\n",
    "documents = text_splitters.split_documents(docs)"
   ]
  },
  {
   "cell_type": "code",
   "execution_count": 17,
   "id": "7bdcd990",
   "metadata": {},
   "outputs": [
    {
     "data": {
      "text/plain": [
       "[Document(metadata={'source': '../1.3-textsplitter/speech.txt'}, page_content='Machine Learning and Generative AI: Shaping the Future of Intelligence'),\n",
       " Document(metadata={'source': '../1.3-textsplitter/speech.txt'}, page_content=\"The last decade has witnessed an unprecedented surge in the advancement of artificial intelligence (AI), driven largely by the breakthroughs in machine learning (ML) and the explosive growth of generative AI. Together, these technologies are not just changing how machines process information—they're transforming entire industries, reshaping creative processes, and redefining the boundaries between human and machine capabilities.\"),\n",
       " Document(metadata={'source': '../1.3-textsplitter/speech.txt'}, page_content='In this blog, we’ll explore what machine learning is, how generative AI fits into the larger AI ecosystem, their real-world applications, and what the future holds.\\n\\nWhat is Machine Learning?\\nMachine learning is a subset of artificial intelligence that enables machines to learn from data and improve their performance without being explicitly programmed. Instead of following hard-coded instructions, ML algorithms find patterns in data and make predictions or decisions based on it.'),\n",
       " Document(metadata={'source': '../1.3-textsplitter/speech.txt'}, page_content='There are several key types of machine learning:\\n\\n1. Supervised Learning\\nIn supervised learning, the algorithm is trained on labeled data, meaning the input comes with corresponding correct outputs. It learns to map inputs to outputs and is commonly used in applications like spam detection, image classification, and medical diagnosis.'),\n",
       " Document(metadata={'source': '../1.3-textsplitter/speech.txt'}, page_content='2. Unsupervised Learning\\nHere, the data has no labels. The model identifies hidden patterns or groupings in the data. This is useful for customer segmentation, anomaly detection, and dimensionality reduction.\\n\\n3. Reinforcement Learning\\nAn agent learns by interacting with an environment, receiving feedback in the form of rewards or penalties. This type is widely used in robotics, gaming (like AlphaGo), and autonomous vehicles.'),\n",
       " Document(metadata={'source': '../1.3-textsplitter/speech.txt'}, page_content='What is Generative AI?\\nGenerative AI refers to models that can create new content—such as text, images, music, code, and even video—by learning from large datasets. These models don’t just recognize patterns; they use them to generate original outputs that resemble human-created content.\\n\\nThe most well-known form of generative AI is based on deep learning and transformer architectures, like OpenAI’s GPT (Generative Pre-trained Transformer) models or Google’s Imagen for image generation.'),\n",
       " Document(metadata={'source': '../1.3-textsplitter/speech.txt'}, page_content='Key categories include:\\n\\nText Generation: GPT-4, Claude, and Gemini can write essays, poems, code, and more.\\n\\nImage Generation: DALL·E, Midjourney, and Stable Diffusion can create high-quality images from text prompts.\\n\\nAudio and Music: Tools like Jukebox and Riffusion generate music based on style and genre.\\n\\nVideo Generation: Sora and other emerging models are beginning to generate short videos from text prompts.'),\n",
       " Document(metadata={'source': '../1.3-textsplitter/speech.txt'}, page_content='How Machine Learning Powers Generative AI\\nGenerative AI models are built on advanced machine learning techniques, especially deep learning. A few core technologies include:\\n\\n1. Neural Networks\\nThese are algorithms inspired by the human brain. Deep neural networks (DNNs) have multiple layers and are capable of learning complex patterns in data.'),\n",
       " Document(metadata={'source': '../1.3-textsplitter/speech.txt'}, page_content='2. Transformers\\nIntroduced by Google in 2017 with the paper \"Attention is All You Need\", transformers revolutionized ML by enabling models to process sequences of data more efficiently. This architecture is the foundation of models like GPT, BERT, and T5.\\n\\n3. Unsupervised Pre-training\\nMost generative models learn from vast amounts of unlabeled data. For instance, GPT learns to predict the next word in a sentence across billions of examples, building a nuanced understanding of language.'),\n",
       " Document(metadata={'source': '../1.3-textsplitter/speech.txt'}, page_content='4. Diffusion Models\\nUsed in image generation, diffusion models learn to reverse a process of adding noise to data. By training on millions of images, they learn how to construct realistic images from random noise.\\n\\nApplications of Machine Learning and Generative AI\\nThe integration of ML and generative AI is already impacting industries in profound ways. Here are some real-world applications:\\n\\n1. Healthcare\\nDiagnostics: ML models analyze X-rays, MRIs, and genomic data with high accuracy.'),\n",
       " Document(metadata={'source': '../1.3-textsplitter/speech.txt'}, page_content='Drug Discovery: Generative AI designs new molecular structures, speeding up drug development.\\n\\nPersonalized Medicine: ML tailors treatment plans based on individual patient data.\\n\\n2. Finance\\nFraud Detection: ML algorithms detect unusual patterns that may indicate fraud.\\n\\nAlgorithmic Trading: AI systems make split-second investment decisions.\\n\\nDocument Processing: Generative models summarize and extract information from financial documents.'),\n",
       " Document(metadata={'source': '../1.3-textsplitter/speech.txt'}, page_content='3. Education\\nTutoring Systems: Chatbots powered by generative AI offer personalized explanations.\\n\\nEssay Scoring and Feedback: AI can provide immediate, consistent writing assessments.\\n\\nContent Creation: Generative tools help educators create lesson plans and quizzes.\\n\\n4. Entertainment and Media\\nMusic and Art: AI collaborates with artists to generate novel compositions and visuals.\\n\\nFilm and Animation: Generative models help design characters, storyboard sequences, and even write scripts.'),\n",
       " Document(metadata={'source': '../1.3-textsplitter/speech.txt'}, page_content='Gaming: AI generates dialogue, quests, and even entire game worlds dynamically.\\n\\n5. Business and Marketing\\nContent Creation: AI writes blogs, product descriptions, emails, and ad copy.\\n\\nCustomer Support: AI chatbots answer queries, automate support, and route requests.\\n\\nDesign: AI tools generate brand assets like logos, social media content, and web designs.'),\n",
       " Document(metadata={'source': '../1.3-textsplitter/speech.txt'}, page_content='Benefits of Machine Learning and Generative AI\\n1. Increased Productivity\\nGenerative AI dramatically accelerates tasks that used to take hours or days, such as content creation, coding, and data analysis.\\n\\n2. Scalability\\nML systems can handle massive volumes of data and generate personalized results at scale, something that would be impossible manually.'),\n",
       " Document(metadata={'source': '../1.3-textsplitter/speech.txt'}, page_content='3. Creativity Augmentation\\nRather than replacing creatives, generative AI can act as a co-pilot—enhancing inspiration, offering variations, and exploring ideas faster.\\n\\n4. Accessibility\\nWith AI, complex tasks (like editing videos or writing marketing copy) become accessible to people without technical expertise.\\n\\nChallenges and Ethical Considerations\\nAs powerful as these technologies are, they come with challenges:'),\n",
       " Document(metadata={'source': '../1.3-textsplitter/speech.txt'}, page_content='1. Bias and Fairness\\nML models can learn and amplify biases present in their training data, leading to discriminatory outcomes. For instance, facial recognition systems have shown higher error rates for certain demographics.\\n\\n2. Misinformation\\nGenerative models can be used to create realistic fake content—deepfakes, fake news articles, or fake audio clips—which can spread misinformation.'),\n",
       " Document(metadata={'source': '../1.3-textsplitter/speech.txt'}, page_content='3. Intellectual Property\\nWho owns AI-generated content? The lines between human and machine authorship are increasingly blurred, raising legal and ethical questions.\\n\\n4. Data Privacy\\nLarge models are often trained on publicly available data, which may inadvertently include sensitive information. Ensuring data privacy is a key concern.'),\n",
       " Document(metadata={'source': '../1.3-textsplitter/speech.txt'}, page_content='5. Job Displacement\\nWhile AI creates new opportunities, it may also automate certain jobs, especially in fields like customer service, content creation, and data entry.\\n\\nThe Future of Machine Learning and Generative AI\\nThe future of AI is incredibly promising, and developments in machine learning and generative AI will continue to push boundaries. Here are a few trends to watch:'),\n",
       " Document(metadata={'source': '../1.3-textsplitter/speech.txt'}, page_content='1. Multimodal AI\\nModels that understand and generate across multiple data types (e.g., text, images, video, audio) will become more common. GPT-4 and others are already moving in this direction.\\n\\n2. Smaller, More Efficient Models\\nEfforts like distillation and quantization are making it possible to deploy powerful AI models on mobile devices and embedded systems.'),\n",
       " Document(metadata={'source': '../1.3-textsplitter/speech.txt'}, page_content=\"3. AI Agents\\nInstead of just chatbots, we're moving toward AI agents that can take actions, browse the web, use tools, and perform complex multi-step tasks.\\n\\n4. Personalized AI\\nWith federated learning and privacy-preserving techniques, future AI systems will adapt to individuals while keeping data secure.\\n\\n5. Ethical AI\\nThere is a growing focus on building ethical, transparent, and accountable AI systems that align with human values and societal goals.\"),\n",
       " Document(metadata={'source': '../1.3-textsplitter/speech.txt'}, page_content=\"Conclusion\\nMachine learning and generative AI are more than just buzzwords—they are the engines driving innovation across the globe. Whether it's diagnosing diseases, creating art, automating businesses, or writing poetry, these technologies are becoming integral to our digital lives.\"),\n",
       " Document(metadata={'source': '../1.3-textsplitter/speech.txt'}, page_content=\"While we must approach their deployment with caution and responsibility, the potential of machine learning and generative AI is immense. As these systems become more accessible and integrated, they will empower individuals, amplify creativity, and redefine what's possible in the age of intelligent machines.\\n\\nThe future isn’t just AI-powered—it’s AI-augmented.\")]"
      ]
     },
     "execution_count": 17,
     "metadata": {},
     "output_type": "execute_result"
    }
   ],
   "source": [
    "documents"
   ]
  },
  {
   "cell_type": "code",
   "execution_count": 21,
   "id": "b28814bb",
   "metadata": {},
   "outputs": [],
   "source": [
    "# embedding text and store chromadb\n",
    "from langchain_chroma import Chroma"
   ]
  },
  {
   "cell_type": "code",
   "execution_count": 23,
   "id": "da358c7a",
   "metadata": {},
   "outputs": [],
   "source": [
    "vector_store = Chroma.from_documents(documents, embedding=embedding) "
   ]
  },
  {
   "cell_type": "code",
   "execution_count": 24,
   "id": "d74d91f6",
   "metadata": {},
   "outputs": [
    {
     "data": {
      "text/plain": [
       "<langchain_chroma.vectorstores.Chroma at 0x1ceea549550>"
      ]
     },
     "execution_count": 24,
     "metadata": {},
     "output_type": "execute_result"
    }
   ],
   "source": [
    "vector_store"
   ]
  },
  {
   "cell_type": "code",
   "execution_count": 26,
   "id": "ffeb5ceb",
   "metadata": {},
   "outputs": [
    {
     "data": {
      "text/plain": [
       "'There are several key types of machine learning:\\n\\n1. Supervised Learning\\nIn supervised learning, the algorithm is trained on labeled data, meaning the input comes with corresponding correct outputs. It learns to map inputs to outputs and is commonly used in applications like spam detection, image classification, and medical diagnosis.'"
      ]
     },
     "execution_count": 26,
     "metadata": {},
     "output_type": "execute_result"
    }
   ],
   "source": [
    "query = \"In supervised learning, the algorithm is trained on labeled data\"\n",
    "result = vector_store.similarity_search(query)\n",
    "result[0].page_content"
   ]
  },
  {
   "cell_type": "code",
   "execution_count": 28,
   "id": "c719ca28",
   "metadata": {},
   "outputs": [
    {
     "data": {
      "text/plain": [
       "<langchain_chroma.vectorstores.Chroma at 0x1ceeb1bca10>"
      ]
     },
     "execution_count": 28,
     "metadata": {},
     "output_type": "execute_result"
    }
   ],
   "source": [
    "# save the model\n",
    "\n",
    "Chroma.from_documents(documents, embedding, persist_directory='./chroma_db')\n"
   ]
  },
  {
   "cell_type": "code",
   "execution_count": 29,
   "id": "0a4c40a8",
   "metadata": {},
   "outputs": [
    {
     "data": {
      "text/plain": [
       "[Document(id='824376d4-5f7d-4b0f-8260-c78f6df845f7', metadata={'source': '../1.3-textsplitter/speech.txt'}, page_content='There are several key types of machine learning:\\n\\n1. Supervised Learning\\nIn supervised learning, the algorithm is trained on labeled data, meaning the input comes with corresponding correct outputs. It learns to map inputs to outputs and is commonly used in applications like spam detection, image classification, and medical diagnosis.'),\n",
       " Document(id='d3d8cfc1-e8aa-4645-8723-66253c49cb8c', metadata={'source': '../1.3-textsplitter/speech.txt'}, page_content='2. Unsupervised Learning\\nHere, the data has no labels. The model identifies hidden patterns or groupings in the data. This is useful for customer segmentation, anomaly detection, and dimensionality reduction.\\n\\n3. Reinforcement Learning\\nAn agent learns by interacting with an environment, receiving feedback in the form of rewards or penalties. This type is widely used in robotics, gaming (like AlphaGo), and autonomous vehicles.'),\n",
       " Document(id='9ec3d991-c503-4edf-a02f-0d1fe03b856d', metadata={'source': '../1.3-textsplitter/speech.txt'}, page_content='In this blog, we’ll explore what machine learning is, how generative AI fits into the larger AI ecosystem, their real-world applications, and what the future holds.\\n\\nWhat is Machine Learning?\\nMachine learning is a subset of artificial intelligence that enables machines to learn from data and improve their performance without being explicitly programmed. Instead of following hard-coded instructions, ML algorithms find patterns in data and make predictions or decisions based on it.'),\n",
       " Document(id='7e4aadeb-87dd-4056-8429-fead5ca0828e', metadata={'source': '../1.3-textsplitter/speech.txt'}, page_content='Drug Discovery: Generative AI designs new molecular structures, speeding up drug development.\\n\\nPersonalized Medicine: ML tailors treatment plans based on individual patient data.\\n\\n2. Finance\\nFraud Detection: ML algorithms detect unusual patterns that may indicate fraud.\\n\\nAlgorithmic Trading: AI systems make split-second investment decisions.\\n\\nDocument Processing: Generative models summarize and extract information from financial documents.')]"
      ]
     },
     "execution_count": 29,
     "metadata": {},
     "output_type": "execute_result"
    }
   ],
   "source": [
    "# load chorm db\n",
    "db2 = Chroma(persist_directory='./chroma_db', embedding_function=embedding)\n",
    "db2.similarity_search(query)"
   ]
  },
  {
   "cell_type": "code",
   "execution_count": 30,
   "id": "45d7531c",
   "metadata": {},
   "outputs": [
    {
     "data": {
      "text/plain": [
       "[(Document(id='824376d4-5f7d-4b0f-8260-c78f6df845f7', metadata={'source': '../1.3-textsplitter/speech.txt'}, page_content='There are several key types of machine learning:\\n\\n1. Supervised Learning\\nIn supervised learning, the algorithm is trained on labeled data, meaning the input comes with corresponding correct outputs. It learns to map inputs to outputs and is commonly used in applications like spam detection, image classification, and medical diagnosis.'),\n",
       "  0.9350473880767822),\n",
       " (Document(id='d3d8cfc1-e8aa-4645-8723-66253c49cb8c', metadata={'source': '../1.3-textsplitter/speech.txt'}, page_content='2. Unsupervised Learning\\nHere, the data has no labels. The model identifies hidden patterns or groupings in the data. This is useful for customer segmentation, anomaly detection, and dimensionality reduction.\\n\\n3. Reinforcement Learning\\nAn agent learns by interacting with an environment, receiving feedback in the form of rewards or penalties. This type is widely used in robotics, gaming (like AlphaGo), and autonomous vehicles.'),\n",
       "  0.9891757965087891),\n",
       " (Document(id='9ec3d991-c503-4edf-a02f-0d1fe03b856d', metadata={'source': '../1.3-textsplitter/speech.txt'}, page_content='In this blog, we’ll explore what machine learning is, how generative AI fits into the larger AI ecosystem, their real-world applications, and what the future holds.\\n\\nWhat is Machine Learning?\\nMachine learning is a subset of artificial intelligence that enables machines to learn from data and improve their performance without being explicitly programmed. Instead of following hard-coded instructions, ML algorithms find patterns in data and make predictions or decisions based on it.'),\n",
       "  1.2034589052200317),\n",
       " (Document(id='7e4aadeb-87dd-4056-8429-fead5ca0828e', metadata={'source': '../1.3-textsplitter/speech.txt'}, page_content='Drug Discovery: Generative AI designs new molecular structures, speeding up drug development.\\n\\nPersonalized Medicine: ML tailors treatment plans based on individual patient data.\\n\\n2. Finance\\nFraud Detection: ML algorithms detect unusual patterns that may indicate fraud.\\n\\nAlgorithmic Trading: AI systems make split-second investment decisions.\\n\\nDocument Processing: Generative models summarize and extract information from financial documents.'),\n",
       "  1.266362190246582)]"
      ]
     },
     "execution_count": 30,
     "metadata": {},
     "output_type": "execute_result"
    }
   ],
   "source": [
    "db2.similarity_search_with_score(query)"
   ]
  },
  {
   "cell_type": "code",
   "execution_count": 33,
   "id": "ddc76761",
   "metadata": {},
   "outputs": [
    {
     "data": {
      "text/plain": [
       "[Document(id='824376d4-5f7d-4b0f-8260-c78f6df845f7', metadata={'source': '../1.3-textsplitter/speech.txt'}, page_content='There are several key types of machine learning:\\n\\n1. Supervised Learning\\nIn supervised learning, the algorithm is trained on labeled data, meaning the input comes with corresponding correct outputs. It learns to map inputs to outputs and is commonly used in applications like spam detection, image classification, and medical diagnosis.'),\n",
       " Document(id='d3d8cfc1-e8aa-4645-8723-66253c49cb8c', metadata={'source': '../1.3-textsplitter/speech.txt'}, page_content='2. Unsupervised Learning\\nHere, the data has no labels. The model identifies hidden patterns or groupings in the data. This is useful for customer segmentation, anomaly detection, and dimensionality reduction.\\n\\n3. Reinforcement Learning\\nAn agent learns by interacting with an environment, receiving feedback in the form of rewards or penalties. This type is widely used in robotics, gaming (like AlphaGo), and autonomous vehicles.'),\n",
       " Document(id='9ec3d991-c503-4edf-a02f-0d1fe03b856d', metadata={'source': '../1.3-textsplitter/speech.txt'}, page_content='In this blog, we’ll explore what machine learning is, how generative AI fits into the larger AI ecosystem, their real-world applications, and what the future holds.\\n\\nWhat is Machine Learning?\\nMachine learning is a subset of artificial intelligence that enables machines to learn from data and improve their performance without being explicitly programmed. Instead of following hard-coded instructions, ML algorithms find patterns in data and make predictions or decisions based on it.'),\n",
       " Document(id='7e4aadeb-87dd-4056-8429-fead5ca0828e', metadata={'source': '../1.3-textsplitter/speech.txt'}, page_content='Drug Discovery: Generative AI designs new molecular structures, speeding up drug development.\\n\\nPersonalized Medicine: ML tailors treatment plans based on individual patient data.\\n\\n2. Finance\\nFraud Detection: ML algorithms detect unusual patterns that may indicate fraud.\\n\\nAlgorithmic Trading: AI systems make split-second investment decisions.\\n\\nDocument Processing: Generative models summarize and extract information from financial documents.')]"
      ]
     },
     "execution_count": 33,
     "metadata": {},
     "output_type": "execute_result"
    }
   ],
   "source": [
    "retriver = db2.as_retriever()\n",
    "retriver.invoke(query)"
   ]
  },
  {
   "cell_type": "code",
   "execution_count": 34,
   "id": "2f56ab27",
   "metadata": {},
   "outputs": [
    {
     "data": {
      "text/plain": [
       "'There are several key types of machine learning:\\n\\n1. Supervised Learning\\nIn supervised learning, the algorithm is trained on labeled data, meaning the input comes with corresponding correct outputs. It learns to map inputs to outputs and is commonly used in applications like spam detection, image classification, and medical diagnosis.'"
      ]
     },
     "execution_count": 34,
     "metadata": {},
     "output_type": "execute_result"
    }
   ],
   "source": [
    "retriver.invoke(query)[0].page_content"
   ]
  },
  {
   "cell_type": "code",
   "execution_count": null,
   "id": "403b4f50",
   "metadata": {},
   "outputs": [],
   "source": []
  }
 ],
 "metadata": {
  "kernelspec": {
   "display_name": "Python 3",
   "language": "python",
   "name": "python3"
  },
  "language_info": {
   "codemirror_mode": {
    "name": "ipython",
    "version": 3
   },
   "file_extension": ".py",
   "mimetype": "text/x-python",
   "name": "python",
   "nbconvert_exporter": "python",
   "pygments_lexer": "ipython3",
   "version": "3.11.0"
  }
 },
 "nbformat": 4,
 "nbformat_minor": 5
}
