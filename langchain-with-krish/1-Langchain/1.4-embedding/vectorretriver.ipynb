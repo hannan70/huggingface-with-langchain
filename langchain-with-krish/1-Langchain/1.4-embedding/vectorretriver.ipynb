{
 "cells": [
  {
   "cell_type": "code",
   "execution_count": 31,
   "id": "85b91b23",
   "metadata": {},
   "outputs": [],
   "source": [
    "import os\n",
    "from dotenv import load_dotenv\n",
    "load_dotenv()\n",
    "from langchain.schema import Document\n",
    "from langchain_huggingface import HuggingFaceEmbeddings\n",
    "from  langchain_groq import ChatGroq\n",
    "from langchain_chroma import Chroma"
   ]
  },
  {
   "cell_type": "code",
   "execution_count": 61,
   "id": "516e385b",
   "metadata": {},
   "outputs": [
    {
     "data": {
      "text/plain": [
       "ChatGroq(client=<groq.resources.chat.completions.Completions object at 0x000001C302126CD0>, async_client=<groq.resources.chat.completions.AsyncCompletions object at 0x000001C302127410>, model_name='Llama3-8b-8192', model_kwargs={}, groq_api_key=SecretStr('**********'))"
      ]
     },
     "execution_count": 61,
     "metadata": {},
     "output_type": "execute_result"
    }
   ],
   "source": [
    "# laod all env variable\n",
    "os.environ['HUGGINGFACE_TOKEN'] = os.getenv('HUGGINGFACE_TOKEN')\n",
    "os.environ['GROQ_API_KEY'] = os.getenv('GROQ_API_KEY')\n",
    "\n",
    "llm = ChatGroq(model='Llama3-8b-8192')\n",
    "llm"
   ]
  },
  {
   "cell_type": "code",
   "execution_count": 62,
   "id": "805bd11a",
   "metadata": {},
   "outputs": [],
   "source": [
    "documents = [\n",
    "    Document(page_content=\"Supervised learning is a type of machine learning where a model learns from labeled data.\", \n",
    "             metadata={\"source\": \"ML Handbook\", \"topic\": \"supervised_learning\", \"id\": 1}),\n",
    "    \n",
    "    Document(page_content=\"Unsupervised learning finds hidden patterns or intrinsic structures in input data without labels.\", \n",
    "             metadata={\"source\": \"ML Handbook\", \"topic\": \"unsupervised_learning\", \"id\": 2}),\n",
    "    \n",
    "    Document(page_content=\"Gradient descent is an optimization algorithm used to minimize the loss function in training models.\", \n",
    "             metadata={\"source\": \"ML Handbook\", \"topic\": \"optimization\", \"id\": 3}),\n",
    "    \n",
    "    Document(page_content=\"Overfitting occurs when a machine learning model performs well on training data but poorly on unseen data.\", \n",
    "             metadata={\"source\": \"ML Handbook\", \"topic\": \"model_evaluation\", \"id\": 4}),\n",
    "    \n",
    "    Document(page_content=\"A neural network is a series of algorithms that attempts to recognize relationships in data through a process that mimics the human brain.\", \n",
    "             metadata={\"source\": \"ML Handbook\", \"topic\": \"neural_networks\", \"id\": 5}),\n",
    "    \n",
    "    Document(page_content=\"Decision trees are a type of supervised learning algorithm used for classification and regression tasks.\", \n",
    "             metadata={\"source\": \"ML Handbook\", \"topic\": \"decision_trees\", \"id\": 6}),\n",
    "    \n",
    "    Document(page_content=\"Cross-validation is a technique for assessing how a model will generalize to an independent dataset.\", \n",
    "             metadata={\"source\": \"ML Handbook\", \"topic\": \"validation\", \"id\": 7}),\n",
    "    \n",
    "    Document(page_content=\"Feature engineering is the process of selecting, modifying, or creating new features from raw data.\", \n",
    "             metadata={\"source\": \"ML Handbook\", \"topic\": \"feature_engineering\", \"id\": 8}),\n",
    "    \n",
    "    Document(page_content=\"Reinforcement learning involves training an agent to make sequences of decisions by rewarding good actions.\", \n",
    "             metadata={\"source\": \"ML Handbook\", \"topic\": \"reinforcement_learning\", \"id\": 9}),\n",
    "    \n",
    "    Document(page_content=\"Support Vector Machines (SVMs) are supervised learning models that analyze data for classification and regression analysis.\", \n",
    "             metadata={\"source\": \"ML Handbook\", \"topic\": \"svm\", \"id\": 10})\n",
    "]"
   ]
  },
  {
   "cell_type": "code",
   "execution_count": 63,
   "id": "4ace558b",
   "metadata": {},
   "outputs": [],
   "source": [
    "#  embedding documents\n",
    "embeddings = HuggingFaceEmbeddings(model=\"all-MiniLM-L6-v2\")"
   ]
  },
  {
   "cell_type": "code",
   "execution_count": 64,
   "id": "50747de8",
   "metadata": {},
   "outputs": [
    {
     "data": {
      "text/plain": [
       "[0.054767969995737076,\n",
       " -0.0023755726870149374,\n",
       " 0.03518056869506836,\n",
       " -0.021966293454170227,\n",
       " -0.0055615948513150215,\n",
       " 0.04422859475016594,\n",
       " 0.0599462129175663,\n",
       " 0.01866561733186245,\n",
       " -0.015071370638906956,\n",
       " 0.010934853926301003,\n",
       " 0.09390337765216827,\n",
       " 0.06103352829813957,\n",
       " -0.0012859287671744823,\n",
       " -0.08808569610118866,\n",
       " -0.0362674780189991,\n",
       " -0.012196228839457035,\n",
       " 0.07285603880882263,\n",
       " -0.046226248145103455,\n",
       " 0.07721590250730515,\n",
       " -0.06181304156780243,\n",
       " 0.009436095133423805,\n",
       " 0.06980034708976746,\n",
       " 0.04540790244936943,\n",
       " -0.00684353755787015,\n",
       " -0.005252021364867687,\n",
       " 0.09801838546991348,\n",
       " -0.06850487738847733,\n",
       " 0.028310133144259453,\n",
       " 0.10142587870359421,\n",
       " -0.08023163676261902,\n",
       " -0.04994238540530205,\n",
       " 0.07461267709732056,\n",
       " 0.1019417941570282,\n",
       " -0.007688743527978659,\n",
       " -0.004584288224577904,\n",
       " 0.0026557231321930885,\n",
       " -6.363131251418963e-05,\n",
       " -0.005447732750326395,\n",
       " -0.03677614778280258,\n",
       " -0.03455669805407524,\n",
       " 0.0959698036313057,\n",
       " -0.08548922836780548,\n",
       " -0.04759650677442551,\n",
       " -0.02936512976884842,\n",
       " 0.0010999750811606646,\n",
       " 0.0006537300068885088,\n",
       " -0.05439078062772751,\n",
       " 0.049546852707862854,\n",
       " -0.004068145528435707,\n",
       " 0.05346360430121422,\n",
       " -0.01689491979777813,\n",
       " -0.006594793405383825,\n",
       " 0.0027808034792542458,\n",
       " 0.04486629739403725,\n",
       " 0.082508385181427,\n",
       " -0.03452245891094208,\n",
       " 0.06147579848766327,\n",
       " -0.012933257967233658,\n",
       " -0.04055924713611603,\n",
       " -0.03459104150533676,\n",
       " -0.0779481828212738,\n",
       " 0.011198037303984165,\n",
       " -0.042614489793777466,\n",
       " 0.03424188867211342,\n",
       " 0.05673752725124359,\n",
       " -0.03607485443353653,\n",
       " 0.06414943933486938,\n",
       " 0.10862624645233154,\n",
       " -0.07096388190984726,\n",
       " 0.012013262137770653,\n",
       " -0.0045995768159627914,\n",
       " 0.013678042218089104,\n",
       " -0.07828254997730255,\n",
       " 0.11718260496854782,\n",
       " -0.1018218845129013,\n",
       " 0.04205523803830147,\n",
       " -0.015910105779767036,\n",
       " -0.1066192016005516,\n",
       " 0.023850908502936363,\n",
       " 0.010919813066720963,\n",
       " -0.07081931829452515,\n",
       " 0.1033167690038681,\n",
       " 0.07547486573457718,\n",
       " 0.014882235787808895,\n",
       " -0.07609368115663528,\n",
       " -0.0032005091197788715,\n",
       " -0.012082264758646488,\n",
       " -0.015382524579763412,\n",
       " 0.06349851191043854,\n",
       " -0.03697660192847252,\n",
       " -0.007753434590995312,\n",
       " -0.04948902502655983,\n",
       " 0.038652271032333374,\n",
       " 0.025802167132496834,\n",
       " -0.05353356525301933,\n",
       " -0.013096503913402557,\n",
       " 0.019212771207094193,\n",
       " 0.0010849497048184276,\n",
       " 0.038514457643032074,\n",
       " 0.01266520470380783,\n",
       " 0.02614583633840084,\n",
       " -0.014930175617337227,\n",
       " -0.018496863543987274,\n",
       " -0.08064956218004227,\n",
       " -0.08474893867969513,\n",
       " -0.031791526824235916,\n",
       " -0.005467629060149193,\n",
       " -0.0514615960419178,\n",
       " 0.0464034229516983,\n",
       " 0.031183181330561638,\n",
       " -0.02293391153216362,\n",
       " -0.07958317548036575,\n",
       " -0.09354252368211746,\n",
       " -0.03571994602680206,\n",
       " -0.00894326251000166,\n",
       " -0.11746031045913696,\n",
       " 0.044545967131853104,\n",
       " -0.05288471654057503,\n",
       " 0.07625626027584076,\n",
       " -0.04176477715373039,\n",
       " -0.03282113000750542,\n",
       " -0.011283370666205883,\n",
       " 0.001611817628145218,\n",
       " -0.002348010428249836,\n",
       " -0.060419511049985886,\n",
       " -0.054253071546554565,\n",
       " 0.03475232794880867,\n",
       " 2.342270757994297e-34,\n",
       " -0.020904699340462685,\n",
       " 0.03908063471317291,\n",
       " -0.014093967154622078,\n",
       " 0.07262058556079865,\n",
       " 0.06146477907896042,\n",
       " 0.035489317029714584,\n",
       " 0.01535741426050663,\n",
       " 0.004031998571008444,\n",
       " -0.0449400469660759,\n",
       " -0.017636481672525406,\n",
       " -0.04126562923192978,\n",
       " -0.06602746993303299,\n",
       " -0.03501400724053383,\n",
       " 0.05148189142346382,\n",
       " 0.027637656778097153,\n",
       " -0.04201022908091545,\n",
       " 0.006774557288736105,\n",
       " 0.01791616901755333,\n",
       " 0.04477386176586151,\n",
       " -0.008970411494374275,\n",
       " 0.04364677891135216,\n",
       " 0.05902346968650818,\n",
       " 0.11556640267372131,\n",
       " -0.037379104644060135,\n",
       " 0.05488140136003494,\n",
       " 0.0347961001098156,\n",
       " 0.056639425456523895,\n",
       " 0.017255952581763268,\n",
       " 0.047038283199071884,\n",
       " 0.0261201411485672,\n",
       " 0.08158466964960098,\n",
       " 0.06933494657278061,\n",
       " 0.047920357435941696,\n",
       " -0.05261192098259926,\n",
       " 0.02061428315937519,\n",
       " 0.010933906771242619,\n",
       " 0.008003391325473785,\n",
       " -0.10357930511236191,\n",
       " -0.009862625040113926,\n",
       " 0.013965606689453125,\n",
       " -0.08368124067783356,\n",
       " -0.006243884563446045,\n",
       " 0.03855264186859131,\n",
       " -0.08790785074234009,\n",
       " -0.04764324426651001,\n",
       " 0.05627169460058212,\n",
       " -0.03455619141459465,\n",
       " 0.022049421444535255,\n",
       " -0.011306832544505596,\n",
       " 0.0076062316074967384,\n",
       " -0.02374069206416607,\n",
       " 0.048680610954761505,\n",
       " 0.02438315749168396,\n",
       " 0.02098715864121914,\n",
       " 0.04405525326728821,\n",
       " 0.0064936415292322636,\n",
       " -0.0073738559149205685,\n",
       " -0.09703702479600906,\n",
       " 0.020474113523960114,\n",
       " 0.011795350350439548,\n",
       " -0.04667860269546509,\n",
       " 0.0955415889620781,\n",
       " 0.04544420167803764,\n",
       " 0.02839340828359127,\n",
       " 0.00018614783766679466,\n",
       " 0.10410124808549881,\n",
       " -0.00828767754137516,\n",
       " 0.01083585899323225,\n",
       " -0.0003112787671852857,\n",
       " -0.04490603879094124,\n",
       " 0.03218679130077362,\n",
       " -0.04291472211480141,\n",
       " -0.08514582365751266,\n",
       " 0.12100839614868164,\n",
       " 0.0005994863458909094,\n",
       " 0.04414108395576477,\n",
       " -0.05220729112625122,\n",
       " -0.036239661276340485,\n",
       " -0.03028833121061325,\n",
       " 0.012791291810572147,\n",
       " -0.035268258303403854,\n",
       " 0.013290834613144398,\n",
       " 0.021385150030255318,\n",
       " -0.04940066486597061,\n",
       " -0.0219794400036335,\n",
       " -0.04101762920618057,\n",
       " 0.035991370677948,\n",
       " 0.004612503107637167,\n",
       " 0.031732071191072464,\n",
       " -0.0008282902417704463,\n",
       " 0.08276869356632233,\n",
       " 0.005305236205458641,\n",
       " -0.019141187891364098,\n",
       " 0.05978873372077942,\n",
       " -0.06643509864807129,\n",
       " -1.6103190784120598e-33,\n",
       " -0.08155472576618195,\n",
       " -0.0030676452443003654,\n",
       " -0.08103795349597931,\n",
       " 0.06819473206996918,\n",
       " -0.001225011539645493,\n",
       " -0.06176728755235672,\n",
       " 0.0673074871301651,\n",
       " 0.12536002695560455,\n",
       " 0.016149509698152542,\n",
       " 0.019791606813669205,\n",
       " 0.0341847725212574,\n",
       " -0.005207947455346584,\n",
       " -0.03576015308499336,\n",
       " 0.007928886450827122,\n",
       " -0.00966215692460537,\n",
       " -0.026073260232806206,\n",
       " -0.009615637362003326,\n",
       " -0.0016592952888458967,\n",
       " -0.019094863906502724,\n",
       " 0.059716369956731796,\n",
       " 0.03672253340482712,\n",
       " -0.1054341271519661,\n",
       " -0.0588952861726284,\n",
       " -0.03120831772685051,\n",
       " 0.011047834530472755,\n",
       " 0.04385288059711456,\n",
       " 0.05814352631568909,\n",
       " 0.0074023474007844925,\n",
       " -0.09077690541744232,\n",
       " 0.018798373639583588,\n",
       " 0.02687564119696617,\n",
       " 0.005759097635746002,\n",
       " -0.003502295585349202,\n",
       " -0.023400964215397835,\n",
       " -0.07125537842512131,\n",
       " -0.02567521668970585,\n",
       " 0.041550323367118835,\n",
       " -0.011585630476474762,\n",
       " 0.008769543841481209,\n",
       " -0.006141069810837507,\n",
       " 0.06350772082805634,\n",
       " 0.010859723202884197,\n",
       " 0.03772568330168724,\n",
       " 0.025047514587640762,\n",
       " -0.052789025008678436,\n",
       " -0.10329823940992355,\n",
       " -0.08606592565774918,\n",
       " -0.06097035855054855,\n",
       " 0.06757663190364838,\n",
       " -0.03782226890325546,\n",
       " -0.026156770065426826,\n",
       " -0.007737994194030762,\n",
       " 0.08807748556137085,\n",
       " 0.02565104328095913,\n",
       " -0.06055769324302673,\n",
       " -0.08191192150115967,\n",
       " -0.0615425780415535,\n",
       " -0.0019429158419370651,\n",
       " -0.06960771977901459,\n",
       " 0.016103796660900116,\n",
       " 0.02291170135140419,\n",
       " -0.0551467128098011,\n",
       " 0.01881624385714531,\n",
       " 0.0047332425601780415,\n",
       " 0.061580415815114975,\n",
       " -0.060374967753887177,\n",
       " 0.05510803684592247,\n",
       " -0.0041316719725728035,\n",
       " -0.1261700987815857,\n",
       " -0.047289252281188965,\n",
       " 0.11049602925777435,\n",
       " 0.0794181302189827,\n",
       " -0.034258391708135605,\n",
       " 0.011921064928174019,\n",
       " -0.024669110774993896,\n",
       " 0.031332094222307205,\n",
       " -0.00232440372928977,\n",
       " -0.014234783127903938,\n",
       " -0.09288440644741058,\n",
       " 0.021411634981632233,\n",
       " 0.10723742097616196,\n",
       " -0.0026336826849728823,\n",
       " -0.0569586344063282,\n",
       " 0.034049589186906815,\n",
       " 0.04173559695482254,\n",
       " 0.034451305866241455,\n",
       " -0.03389541804790497,\n",
       " 0.04901795834302902,\n",
       " -0.07040288299322128,\n",
       " 0.0245024673640728,\n",
       " -0.04271363839507103,\n",
       " 0.012344518676400185,\n",
       " -0.06727539747953415,\n",
       " 0.10761930048465729,\n",
       " 0.0193148422986269,\n",
       " -2.8328809520417053e-08,\n",
       " -0.11724063009023666,\n",
       " -0.08076062053442001,\n",
       " -0.018516860902309418,\n",
       " -0.08359266072511673,\n",
       " -0.00484876474365592,\n",
       " -0.04238708317279816,\n",
       " 0.028063824400305748,\n",
       " -0.09602237492799759,\n",
       " 0.03569122031331062,\n",
       " -0.041884828358888626,\n",
       " 0.04061790928244591,\n",
       " 0.05067267641425133,\n",
       " -0.04866113141179085,\n",
       " -0.03682062774896622,\n",
       " 0.06341451406478882,\n",
       " 0.006965704262256622,\n",
       " -0.004341682884842157,\n",
       " 0.0040833004750311375,\n",
       " -0.022620880976319313,\n",
       " -0.06289874762296677,\n",
       " 0.07402703166007996,\n",
       " 0.05522046983242035,\n",
       " 0.0023267650976777077,\n",
       " -0.06466468423604965,\n",
       " -0.012941337190568447,\n",
       " 0.02967124991118908,\n",
       " -0.006699969060719013,\n",
       " 0.007963303476572037,\n",
       " -0.0402926504611969,\n",
       " -0.01904045231640339,\n",
       " 0.01659991405904293,\n",
       " 0.06516371667385101,\n",
       " 0.007634277921169996,\n",
       " -0.01124375220388174,\n",
       " 0.008365919813513756,\n",
       " 0.08949343115091324,\n",
       " 0.030960053205490112,\n",
       " 0.005435325670987368,\n",
       " -0.0023546451702713966,\n",
       " -0.051105011254549026,\n",
       " -0.01792963407933712,\n",
       " -0.07441671192646027,\n",
       " 0.009580693207681179,\n",
       " -0.014397116377949715,\n",
       " 0.08587130904197693,\n",
       " 0.027961671352386475,\n",
       " -0.02606317214667797,\n",
       " -0.03385892137885094,\n",
       " -0.01625455915927887,\n",
       " -0.10691871494054794,\n",
       " 0.05532374605536461,\n",
       " 0.0602731816470623,\n",
       " 0.06856825947761536,\n",
       " 0.03457680717110634,\n",
       " -0.014085751958191395,\n",
       " -0.0659998282790184,\n",
       " -0.02725798822939396,\n",
       " 0.03400754928588867,\n",
       " -0.0135626420378685,\n",
       " -0.017017899081110954,\n",
       " 0.04960492625832558,\n",
       " -0.1348528265953064,\n",
       " 0.11187437176704407,\n",
       " 0.025679005309939384]"
      ]
     },
     "execution_count": 64,
     "metadata": {},
     "output_type": "execute_result"
    }
   ],
   "source": [
    "query = text = \"Lorem Ipsum is simply dummy text of the printing and typesetting industry. Lorem Ipsum has been the industry's standard dummy text ever since the 1500s\"\n",
    "embeddings.embed_query(query)\n"
   ]
  },
  {
   "cell_type": "code",
   "execution_count": 65,
   "id": "20a00c55",
   "metadata": {},
   "outputs": [
    {
     "data": {
      "text/plain": [
       "<langchain_chroma.vectorstores.Chroma at 0x1c30213b410>"
      ]
     },
     "execution_count": 65,
     "metadata": {},
     "output_type": "execute_result"
    }
   ],
   "source": [
    "# vector data store in chromadb\n",
    "vector_store = Chroma.from_documents(documents, embedding=embeddings)\n",
    "vector_store"
   ]
  },
  {
   "cell_type": "code",
   "execution_count": 66,
   "id": "f9b2305d",
   "metadata": {},
   "outputs": [
    {
     "data": {
      "text/plain": [
       "[Document(id='ce3aa694-f98d-469e-9f55-12f7fe94122d', metadata={'id': 1, 'source': 'ML Handbook', 'topic': 'supervised_learning'}, page_content='Supervised learning is a type of machine learning where a model learns from labeled data.'),\n",
       " Document(id='799e801b-b6d6-47ef-afeb-c1a650280ad9', metadata={'source': 'ML Handbook', 'id': 1, 'topic': 'supervised_learning'}, page_content='Supervised learning is a type of machine learning where a model learns from labeled data.'),\n",
       " Document(id='3715feb8-1607-4dea-878b-45cf34510f46', metadata={'topic': 'supervised_learning', 'source': 'ML Handbook', 'id': 1}, page_content='Supervised learning is a type of machine learning where a model learns from labeled data.'),\n",
       " Document(id='5eaac3a6-1bfc-4aa6-b657-f200a44611d3', metadata={'id': 1, 'topic': 'supervised_learning', 'source': 'ML Handbook'}, page_content='Supervised learning is a type of machine learning where a model learns from labeled data.')]"
      ]
     },
     "execution_count": 66,
     "metadata": {},
     "output_type": "execute_result"
    }
   ],
   "source": [
    "query = \"Supervised learning is a type of machine learning where a model learns from labeled data.\"\n",
    "vector_store.similarity_search(query)"
   ]
  },
  {
   "cell_type": "code",
   "execution_count": 67,
   "id": "d809e0e4",
   "metadata": {},
   "outputs": [
    {
     "data": {
      "text/plain": [
       "[(Document(id='ce3aa694-f98d-469e-9f55-12f7fe94122d', metadata={'topic': 'supervised_learning', 'source': 'ML Handbook', 'id': 1}, page_content='Supervised learning is a type of machine learning where a model learns from labeled data.'),\n",
       "  3.2414235141484116e-13),\n",
       " (Document(id='799e801b-b6d6-47ef-afeb-c1a650280ad9', metadata={'source': 'ML Handbook', 'id': 1, 'topic': 'supervised_learning'}, page_content='Supervised learning is a type of machine learning where a model learns from labeled data.'),\n",
       "  3.2414235141484116e-13),\n",
       " (Document(id='3715feb8-1607-4dea-878b-45cf34510f46', metadata={'id': 1, 'topic': 'supervised_learning', 'source': 'ML Handbook'}, page_content='Supervised learning is a type of machine learning where a model learns from labeled data.'),\n",
       "  3.2414235141484116e-13),\n",
       " (Document(id='5eaac3a6-1bfc-4aa6-b657-f200a44611d3', metadata={'id': 1, 'source': 'ML Handbook', 'topic': 'supervised_learning'}, page_content='Supervised learning is a type of machine learning where a model learns from labeled data.'),\n",
       "  3.2414235141484116e-13)]"
      ]
     },
     "execution_count": 67,
     "metadata": {},
     "output_type": "execute_result"
    }
   ],
   "source": [
    "vector_store.similarity_search_with_score(query)"
   ]
  },
  {
   "cell_type": "code",
   "execution_count": 68,
   "id": "96dd0c11",
   "metadata": {},
   "outputs": [
    {
     "data": {
      "text/plain": [
       "[(Document(id='ce3aa694-f98d-469e-9f55-12f7fe94122d', metadata={'source': 'ML Handbook', 'topic': 'supervised_learning', 'id': 1}, page_content='Supervised learning is a type of machine learning where a model learns from labeled data.'),\n",
       "  0.8791699409484863),\n",
       " (Document(id='799e801b-b6d6-47ef-afeb-c1a650280ad9', metadata={'source': 'ML Handbook', 'id': 1, 'topic': 'supervised_learning'}, page_content='Supervised learning is a type of machine learning where a model learns from labeled data.'),\n",
       "  0.8791699409484863),\n",
       " (Document(id='3715feb8-1607-4dea-878b-45cf34510f46', metadata={'topic': 'supervised_learning', 'id': 1, 'source': 'ML Handbook'}, page_content='Supervised learning is a type of machine learning where a model learns from labeled data.'),\n",
       "  0.8791699409484863),\n",
       " (Document(id='5eaac3a6-1bfc-4aa6-b657-f200a44611d3', metadata={'topic': 'supervised_learning', 'source': 'ML Handbook', 'id': 1}, page_content='Supervised learning is a type of machine learning where a model learns from labeled data.'),\n",
       "  0.8791699409484863)]"
      ]
     },
     "execution_count": 68,
     "metadata": {},
     "output_type": "execute_result"
    }
   ],
   "source": [
    "vector_store.similarity_search_with_score('machine learning')"
   ]
  },
  {
   "cell_type": "code",
   "execution_count": 69,
   "id": "dae76a5b",
   "metadata": {},
   "outputs": [
    {
     "data": {
      "text/plain": [
       "[Document(id='ce3aa694-f98d-469e-9f55-12f7fe94122d', metadata={'topic': 'supervised_learning', 'id': 1, 'source': 'ML Handbook'}, page_content='Supervised learning is a type of machine learning where a model learns from labeled data.'),\n",
       " Document(id='799e801b-b6d6-47ef-afeb-c1a650280ad9', metadata={'source': 'ML Handbook', 'topic': 'supervised_learning', 'id': 1}, page_content='Supervised learning is a type of machine learning where a model learns from labeled data.'),\n",
       " Document(id='3715feb8-1607-4dea-878b-45cf34510f46', metadata={'source': 'ML Handbook', 'id': 1, 'topic': 'supervised_learning'}, page_content='Supervised learning is a type of machine learning where a model learns from labeled data.'),\n",
       " Document(id='5eaac3a6-1bfc-4aa6-b657-f200a44611d3', metadata={'topic': 'supervised_learning', 'source': 'ML Handbook', 'id': 1}, page_content='Supervised learning is a type of machine learning where a model learns from labeled data.')]"
      ]
     },
     "execution_count": 69,
     "metadata": {},
     "output_type": "execute_result"
    }
   ],
   "source": [
    "retriver = vector_store.as_retriever()\n",
    "retriver.invoke(\"machine learning\")"
   ]
  },
  {
   "cell_type": "code",
   "execution_count": 70,
   "id": "42219bc5",
   "metadata": {},
   "outputs": [
    {
     "data": {
      "text/plain": [
       "'Supervised learning is a type of machine learning where a model learns from labeled data.'"
      ]
     },
     "execution_count": 70,
     "metadata": {},
     "output_type": "execute_result"
    }
   ],
   "source": [
    "retriver.invoke(\"machine learning\")[0].page_content"
   ]
  },
  {
   "cell_type": "code",
   "execution_count": 71,
   "id": "e9be69cc",
   "metadata": {},
   "outputs": [],
   "source": [
    "from langchain_core.runnables import RunnableLambda, RunnableMap"
   ]
  },
  {
   "cell_type": "code",
   "execution_count": 72,
   "id": "21bf40f4",
   "metadata": {},
   "outputs": [
    {
     "data": {
      "text/plain": [
       "[[Document(id='5eaac3a6-1bfc-4aa6-b657-f200a44611d3', metadata={'topic': 'supervised_learning', 'source': 'ML Handbook', 'id': 1}, page_content='Supervised learning is a type of machine learning where a model learns from labeled data.')],\n",
       " [Document(id='7712721a-9e5e-4891-b723-e80c5d92ef6e', metadata={'id': 5, 'source': 'ML Handbook', 'topic': 'neural_networks'}, page_content='A neural network is a series of algorithms that attempts to recognize relationships in data through a process that mimics the human brain.')]]"
      ]
     },
     "execution_count": 72,
     "metadata": {},
     "output_type": "execute_result"
    }
   ],
   "source": [
    "retriver_lambda = RunnableLambda(vector_store.similarity_search).bind(k=1) # k=1 means top value\n",
    "retriver_lambda.batch(['machine learning', 'deep learning'])"
   ]
  },
  {
   "cell_type": "code",
   "execution_count": 73,
   "id": "4421c6b7",
   "metadata": {},
   "outputs": [
    {
     "data": {
      "text/plain": [
       "[[Document(id='5eaac3a6-1bfc-4aa6-b657-f200a44611d3', metadata={'topic': 'supervised_learning', 'id': 1, 'source': 'ML Handbook'}, page_content='Supervised learning is a type of machine learning where a model learns from labeled data.')],\n",
       " [Document(id='7712721a-9e5e-4891-b723-e80c5d92ef6e', metadata={'source': 'ML Handbook', 'topic': 'neural_networks', 'id': 5}, page_content='A neural network is a series of algorithms that attempts to recognize relationships in data through a process that mimics the human brain.')]]"
      ]
     },
     "execution_count": 73,
     "metadata": {},
     "output_type": "execute_result"
    }
   ],
   "source": [
    "# another way\n",
    "retriver = vector_store.as_retriever(\n",
    "    search_type=\"similarity\",\n",
    "    search_kwargs={\"k\":1}\n",
    ")\n",
    "retriver.batch(['machine learning', 'deep learning'])"
   ]
  },
  {
   "cell_type": "code",
   "execution_count": 74,
   "id": "6d1e2c57",
   "metadata": {},
   "outputs": [],
   "source": [
    "from langchain_core.prompts import ChatPromptTemplate\n",
    "from langchain_core.runnables import RunnablePassthrough\n",
    "from langchain.chains import create_retrieval_chain\n",
    "from langchain.chains.combine_documents import create_stuff_documents_chain"
   ]
  },
  {
   "cell_type": "code",
   "execution_count": 75,
   "id": "f7f957ec",
   "metadata": {},
   "outputs": [],
   "source": [
    "prompt = ChatPromptTemplate.from_template(\n",
    "    \"\"\" \n",
    "    You are an expert AI assistant. Answer the following question based only on the context below.\n",
    "    \n",
    "    <context>\n",
    "    {context}\n",
    "    </context>\n",
    "\n",
    "    Question: {input}\n",
    "\n",
    "    Answer in a clear, concise way.\n",
    "\n",
    "    \"\"\"\n",
    ")"
   ]
  },
  {
   "cell_type": "code",
   "execution_count": 76,
   "id": "151cbe73",
   "metadata": {},
   "outputs": [],
   "source": [
    "document_chain = create_stuff_documents_chain(llm, prompt)\n",
    "retriver_chain = create_retrieval_chain(retriver, document_chain)\n"
   ]
  },
  {
   "cell_type": "code",
   "execution_count": 78,
   "id": "221b2b2e",
   "metadata": {},
   "outputs": [
    {
     "data": {
      "text/plain": [
       "'According to the context, machine learning is a type of learning where a model learns from labeled data.'"
      ]
     },
     "execution_count": 78,
     "metadata": {},
     "output_type": "execute_result"
    }
   ],
   "source": [
    "response = retriver_chain.invoke({\"input\": \"tell me about machine learning\"})\n",
    "response['answer']"
   ]
  },
  {
   "cell_type": "code",
   "execution_count": 80,
   "id": "e791050f",
   "metadata": {},
   "outputs": [],
   "source": [
    "# ANOTHER WAY\n",
    "rag_chain = {\"context\": retriver, \"input\": RunnablePassthrough()} | prompt | llm\n",
    "\n",
    "response = rag_chain.invoke(\"machie learning\")\n",
    "\n"
   ]
  },
  {
   "cell_type": "code",
   "execution_count": 83,
   "id": "f317bae1",
   "metadata": {},
   "outputs": [
    {
     "data": {
      "text/plain": [
       "'Based on the provided context, it seems that the question is asking about \"machine learning\". \\n\\nHere\\'s a concise answer: Unsupervised learning is a type of machine learning that finds hidden patterns or intrinsic structures in input data without labels.'"
      ]
     },
     "execution_count": 83,
     "metadata": {},
     "output_type": "execute_result"
    }
   ],
   "source": [
    "response.content"
   ]
  },
  {
   "cell_type": "code",
   "execution_count": null,
   "id": "6115fd6d",
   "metadata": {},
   "outputs": [],
   "source": []
  }
 ],
 "metadata": {
  "kernelspec": {
   "display_name": "Python 3",
   "language": "python",
   "name": "python3"
  },
  "language_info": {
   "codemirror_mode": {
    "name": "ipython",
    "version": 3
   },
   "file_extension": ".py",
   "mimetype": "text/x-python",
   "name": "python",
   "nbconvert_exporter": "python",
   "pygments_lexer": "ipython3",
   "version": "3.11.0"
  }
 },
 "nbformat": 4,
 "nbformat_minor": 5
}
