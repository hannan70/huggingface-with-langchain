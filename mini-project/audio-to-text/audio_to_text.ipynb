{
 "cells": [
  {
   "cell_type": "code",
   "execution_count": 19,
   "id": "48b483c8",
   "metadata": {},
   "outputs": [],
   "source": [
    "from transformers import pipeline\n",
    "import torch \n",
    "import librosa\n",
    "from IPython.display import Audio\n",
    "from transformers import Wav2Vec2ForCTC, Wav2Vec2Tokenizer\n",
    "from huggingface_hub import login\n",
    "import numpy as np"
   ]
  },
  {
   "cell_type": "code",
   "execution_count": 20,
   "id": "76b69f2d",
   "metadata": {},
   "outputs": [
    {
     "data": {
      "text/plain": [
       "'2.7.0+cpu'"
      ]
     },
     "execution_count": 20,
     "metadata": {},
     "output_type": "execute_result"
    }
   ],
   "source": [
    "torch.__version__"
   ]
  },
  {
   "cell_type": "code",
   "execution_count": 21,
   "id": "c5190ff2",
   "metadata": {},
   "outputs": [
    {
     "name": "stderr",
     "output_type": "stream",
     "text": [
      "The tokenizer class you load from this checkpoint is not the same type as the class this function is called from. It may result in unexpected tokenization. \n",
      "The tokenizer class you load from this checkpoint is 'Wav2Vec2CTCTokenizer'. \n",
      "The class this function is called from is 'Wav2Vec2Tokenizer'.\n",
      "d:\\machine-learning\\huggingface-langchain\\audio-to-text\\venv\\Lib\\site-packages\\transformers\\models\\wav2vec2\\tokenization_wav2vec2.py:720: FutureWarning: The class `Wav2Vec2Tokenizer` is deprecated and will be removed in version 5 of Transformers. Please use `Wav2Vec2Processor` or `Wav2Vec2CTCTokenizer` instead.\n",
      "  warnings.warn(\n",
      "Some weights of Wav2Vec2ForCTC were not initialized from the model checkpoint at facebook/wav2vec2-base-960h and are newly initialized: ['wav2vec2.masked_spec_embed']\n",
      "You should probably TRAIN this model on a down-stream task to be able to use it for predictions and inference.\n"
     ]
    }
   ],
   "source": [
    "# load data and tokenizer\n",
    "tokenizer = Wav2Vec2Tokenizer.from_pretrained(\"facebook/wav2vec2-base-960h\")\n",
    "model = Wav2Vec2ForCTC.from_pretrained(\"facebook/wav2vec2-base-960h\")"
   ]
  },
  {
   "cell_type": "code",
   "execution_count": 31,
   "id": "234dcf84",
   "metadata": {},
   "outputs": [],
   "source": [
    "# load audio\n",
    "load_audio = \"./audio/audio_03.mp3\"\n",
    "speech, sampling_rate = librosa.load(load_audio, sr=16000)"
   ]
  },
  {
   "cell_type": "code",
   "execution_count": 32,
   "id": "657cc379",
   "metadata": {},
   "outputs": [
    {
     "data": {
      "text/plain": [
       "(array([ 9.0949470e-13, -4.5474735e-13,  1.4779289e-12, ...,\n",
       "        -2.1523025e-05, -3.6718004e-05, -3.0558447e-05],\n",
       "       shape=(22656,), dtype=float32),\n",
       " 16000)"
      ]
     },
     "execution_count": 32,
     "metadata": {},
     "output_type": "execute_result"
    }
   ],
   "source": [
    "speech, sampling_rate"
   ]
  },
  {
   "cell_type": "code",
   "execution_count": 33,
   "id": "2458a99c",
   "metadata": {},
   "outputs": [
    {
     "data": {
      "text/html": [
       "\n",
       "                <audio  controls=\"controls\" autoplay=\"autoplay\">\n",
       "                    <source src=\"data:audio/mpeg;base64,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\" type=\"audio/mpeg\" />\n",
       "                    Your browser does not support the audio element.\n",
       "                </audio>\n",
       "              "
      ],
      "text/plain": [
       "<IPython.lib.display.Audio object>"
      ]
     },
     "execution_count": 33,
     "metadata": {},
     "output_type": "execute_result"
    }
   ],
   "source": [
    "Audio(load_audio, autoplay=True)"
   ]
  },
  {
   "cell_type": "code",
   "execution_count": 34,
   "id": "14923c18",
   "metadata": {},
   "outputs": [
    {
     "data": {
      "text/plain": [
       "tensor([[0.0012, 0.0012, 0.0012,  ..., 0.0009, 0.0007, 0.0008]])"
      ]
     },
     "execution_count": 34,
     "metadata": {},
     "output_type": "execute_result"
    }
   ],
   "source": [
    "# tokenize input\n",
    "input_values = tokenizer(speech, return_tensors=\"pt\", padding=\"longest\").input_values\n",
    "input_values"
   ]
  },
  {
   "cell_type": "code",
   "execution_count": 35,
   "id": "61c66294",
   "metadata": {},
   "outputs": [],
   "source": [
    "with torch.no_grad():\n",
    "    logits = model(input_values).logits"
   ]
  },
  {
   "cell_type": "code",
   "execution_count": 36,
   "id": "677da3a1",
   "metadata": {},
   "outputs": [
    {
     "data": {
      "text/plain": [
       "tensor([[[ 11.5666, -20.7923, -20.5119,  ...,  -4.4660,  -6.4575,  -6.6606],\n",
       "         [ 11.5829, -20.7902, -20.5098,  ...,  -4.4572,  -6.4539,  -6.6611],\n",
       "         [ 12.4709, -22.9001, -22.6621,  ...,  -3.1938,  -5.9451,  -7.5140],\n",
       "         ...,\n",
       "         [ 11.8742, -25.3323, -25.1260,  ...,  -9.1466, -10.1671,  -9.1671],\n",
       "         [ 11.5920, -20.8068, -20.5264,  ...,  -4.4627,  -6.4655,  -6.6652],\n",
       "         [ 11.5743, -20.8157, -20.5351,  ...,  -4.4822,  -6.4747,  -6.6630]]])"
      ]
     },
     "execution_count": 36,
     "metadata": {},
     "output_type": "execute_result"
    }
   ],
   "source": [
    "logits"
   ]
  },
  {
   "cell_type": "code",
   "execution_count": 37,
   "id": "c3454e7f",
   "metadata": {},
   "outputs": [
    {
     "name": "stdout",
     "output_type": "stream",
     "text": [
      "Transcription: I WANT TO BUY VANANA\n"
     ]
    }
   ],
   "source": [
    "# decode prediction\n",
    "predict_ids = torch.argmax(logits, dim=-1)\n",
    "transcription = tokenizer.batch_decode(predict_ids)[0]\n",
    "\n",
    "print(\"Transcription:\", transcription)"
   ]
  },
  {
   "cell_type": "code",
   "execution_count": null,
   "id": "2059cf44",
   "metadata": {},
   "outputs": [],
   "source": []
  }
 ],
 "metadata": {
  "kernelspec": {
   "display_name": "Python 3",
   "language": "python",
   "name": "python3"
  },
  "language_info": {
   "codemirror_mode": {
    "name": "ipython",
    "version": 3
   },
   "file_extension": ".py",
   "mimetype": "text/x-python",
   "name": "python",
   "nbconvert_exporter": "python",
   "pygments_lexer": "ipython3",
   "version": "3.11.0"
  }
 },
 "nbformat": 4,
 "nbformat_minor": 5
}
