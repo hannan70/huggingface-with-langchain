{
 "cells": [
  {
   "cell_type": "code",
   "execution_count": 1,
   "id": "49f014a7",
   "metadata": {},
   "outputs": [],
   "source": [
    "from gtts import gTTS\n",
    "import os"
   ]
  },
  {
   "cell_type": "code",
   "execution_count": 3,
   "id": "c7296df6",
   "metadata": {},
   "outputs": [
    {
     "data": {
      "text/plain": [
       "0"
      ]
     },
     "execution_count": 3,
     "metadata": {},
     "output_type": "execute_result"
    }
   ],
   "source": [
    "text = \"hello! i am a programmer\"\n",
    "\n",
    "# convert text to speech\n",
    "speech_to_text = gTTS(text=text, lang=\"en\")\n",
    "\n",
    "# save audio speech\n",
    "# speech_to_text.save(\"audio_01.mp3\")\n",
    "\n",
    "# paly the audio\n",
    "os.system('audio_01.mp3')"
   ]
  },
  {
   "cell_type": "code",
   "execution_count": null,
   "id": "8cc25b91",
   "metadata": {},
   "outputs": [],
   "source": []
  }
 ],
 "metadata": {
  "kernelspec": {
   "display_name": "Python 3",
   "language": "python",
   "name": "python3"
  },
  "language_info": {
   "codemirror_mode": {
    "name": "ipython",
    "version": 3
   },
   "file_extension": ".py",
   "mimetype": "text/x-python",
   "name": "python",
   "nbconvert_exporter": "python",
   "pygments_lexer": "ipython3",
   "version": "3.11.0"
  }
 },
 "nbformat": 4,
 "nbformat_minor": 5
}
